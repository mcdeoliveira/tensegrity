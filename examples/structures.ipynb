{
 "cells": [
  {
   "cell_type": "markdown",
   "metadata": {},
   "source": [
    "# Material and structural properties"
   ]
  },
  {
   "cell_type": "code",
   "execution_count": 1,
   "metadata": {},
   "outputs": [],
   "source": [
    "# add path if package is not installed\n",
    "import sys\n",
    "sys.path.append('../src')"
   ]
  },
  {
   "cell_type": "markdown",
   "metadata": {},
   "source": [
    "Start by building the simple planar structure from *The structure of Structures*"
   ]
  },
  {
   "cell_type": "code",
   "execution_count": 2,
   "metadata": {},
   "outputs": [],
   "source": [
    "import numpy as np\n",
    "nodes = np.array([[0,0,0],[0,1,0],[1,1,0],[1,0,0]]).transpose()\n",
    "members = np.array([[0,1],[1,2],[2,3],[3,0],[0,2],[1,3]]).transpose()\n",
    "\n",
    "from tnsgrt.structure import Structure\n",
    "s = Structure(nodes, members, number_of_strings=4)"
   ]
  },
  {
   "cell_type": "markdown",
   "metadata": {},
   "source": [
    "which looks like"
   ]
  },
  {
   "cell_type": "code",
   "execution_count": 3,
   "metadata": {},
   "outputs": [
    {
     "data": {
      "application/vnd.jupyter.widget-view+json": {
       "model_id": "9d559240cc8a46fea531521d242f6a38",
       "version_major": 2,
       "version_minor": 0
      },
      "image/png": "[encoded data removed]",
      "text/html": [
       "\n",
       "            <div style=\"display: inline-block;\">\n",
       "                <div class=\"jupyter-widgets widget-label\" style=\"text-align: center;\">\n",
       "                    Figure\n",
       "                </div>\n",
       "                <img src='data:image/png;base64,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' width=640.0/>\n",
       "            </div>\n",
       "        "
      ],
      "text/plain": [
       "Canvas(toolbar=Toolbar(toolitems=[('Home', 'Reset original view', 'home', 'home'), ('Back', 'Back to previous …"
      ]
     },
     "metadata": {},
     "output_type": "display_data"
    }
   ],
   "source": [
    "from matplotlib import pyplot as plt\n",
    "from tnsgrt.plotter.matplotlib import MatplotlibPlotter\n",
    "%matplotlib widget\n",
    "\n",
    "plotter = MatplotlibPlotter()\n",
    "plotter.plot(s)\n",
    "_, ax = plotter.get_handles()\n",
    "ax.view_init(90,-90)\n",
    "ax.axis('off')\n",
    "plt.show()"
   ]
  },
  {
   "cell_type": "markdown",
   "metadata": {},
   "source": [
    "## Equilibrium\n",
    "\n",
    "One can perform various calculations on structures. For example one can determine the member forces so that the structure is in equilibrium in various scenarios.\n",
    "\n",
    "A key method is `tnsgrt.structure.Structure.equilibrium`, which calculates the internal forces required to\n",
    "maintain a structure in equilibrium. It is assumed that all nodes act as *ball joints*.\n",
    "\n",
    "### Unloaded\n",
    "\n",
    "For example:"
   ]
  },
  {
   "cell_type": "code",
   "execution_count": 4,
   "metadata": {},
   "outputs": [],
   "source": [
    "reactions = s.equilibrium()"
   ]
  },
  {
   "cell_type": "markdown",
   "metadata": {},
   "source": [
    "calculates the forces in the members that maintain the structure in equilibrium and return any reactions.\n",
    "\n",
    "In this *unloaded* case, no external forces are applied to the structure, and equilibrium is achieved by *pretensioning* the structure. Because the structure is free of constraints, the reactions are all zeros:"
   ]
  },
  {
   "cell_type": "code",
   "execution_count": 5,
   "metadata": {},
   "outputs": [
    {
     "data": {
      "text/plain": [
       "array([[0., 0., 0., 0.],\n",
       "       [0., 0., 0., 0.],\n",
       "       [0., 0., 0., 0.]])"
      ]
     },
     "execution_count": 5,
     "metadata": {},
     "output_type": "execute_result"
    }
   ],
   "source": [
    "reactions"
   ]
  },
  {
   "cell_type": "markdown",
   "metadata": {},
   "source": [
    "Running `tnsgrt.structure.Structure.equilibrium` updates the structure's properties *force* and *force coefficients*, which equals the forces divided by member length. The result of the equilibrium calculation can be found in the updated member properties `lambda_` (force coefficient) and `force`:"
   ]
  },
  {
   "cell_type": "code",
   "execution_count": 6,
   "metadata": {
    "scrolled": false
   },
   "outputs": [
    {
     "data": {
      "text/html": [
       "<div>\n",
       "<style scoped>\n",
       "    .dataframe tbody tr th:only-of-type {\n",
       "        vertical-align: middle;\n",
       "    }\n",
       "\n",
       "    .dataframe tbody tr th {\n",
       "        vertical-align: top;\n",
       "    }\n",
       "\n",
       "    .dataframe thead th {\n",
       "        text-align: right;\n",
       "    }\n",
       "</style>\n",
       "<table border=\"1\" class=\"dataframe\">\n",
       "  <thead>\n",
       "    <tr style=\"text-align: right;\">\n",
       "      <th></th>\n",
       "      <th>lambda_</th>\n",
       "      <th>force</th>\n",
       "    </tr>\n",
       "  </thead>\n",
       "  <tbody>\n",
       "    <tr>\n",
       "      <th>0</th>\n",
       "      <td>1.0</td>\n",
       "      <td>1.000000</td>\n",
       "    </tr>\n",
       "    <tr>\n",
       "      <th>1</th>\n",
       "      <td>1.0</td>\n",
       "      <td>1.000000</td>\n",
       "    </tr>\n",
       "    <tr>\n",
       "      <th>2</th>\n",
       "      <td>1.0</td>\n",
       "      <td>1.000000</td>\n",
       "    </tr>\n",
       "    <tr>\n",
       "      <th>3</th>\n",
       "      <td>1.0</td>\n",
       "      <td>1.000000</td>\n",
       "    </tr>\n",
       "    <tr>\n",
       "      <th>4</th>\n",
       "      <td>-1.0</td>\n",
       "      <td>-1.414214</td>\n",
       "    </tr>\n",
       "    <tr>\n",
       "      <th>5</th>\n",
       "      <td>-1.0</td>\n",
       "      <td>-1.414214</td>\n",
       "    </tr>\n",
       "  </tbody>\n",
       "</table>\n",
       "</div>"
      ],
      "text/plain": [
       "   lambda_     force\n",
       "0      1.0  1.000000\n",
       "1      1.0  1.000000\n",
       "2      1.0  1.000000\n",
       "3      1.0  1.000000\n",
       "4     -1.0 -1.414214\n",
       "5     -1.0 -1.414214"
      ]
     },
     "execution_count": 6,
     "metadata": {},
     "output_type": "execute_result"
    }
   ],
   "source": [
    "s.member_properties[['lambda_', 'force']]"
   ]
  },
  {
   "cell_type": "markdown",
   "metadata": {},
   "source": [
    "Pretension is set so that the average force coefficient on all bars is equal to the parameter `lambda_bar`, which is by default equal to one.\n",
    "\n",
    "### Loaded\n",
    "\n",
    "In this case an equilibrium is sought in the presence of external forces, given as a `3 x n` array as the following one:"
   ]
  },
  {
   "cell_type": "code",
   "execution_count": 7,
   "metadata": {},
   "outputs": [],
   "source": [
    "f = 0.125*np.array([[0,1,0],[0,-1,0],[0,-2,0],[0,2,0]]).transpose()"
   ]
  },
  {
   "cell_type": "markdown",
   "metadata": {},
   "source": [
    "Each column is a force vector to be applied on the corresponding node.\n",
    "\n",
    "The external force array `f` can then be passed on to the method equilibrium:"
   ]
  },
  {
   "cell_type": "code",
   "execution_count": 8,
   "metadata": {},
   "outputs": [],
   "source": [
    "reactions = s.equilibrium(f)"
   ]
  },
  {
   "cell_type": "markdown",
   "metadata": {},
   "source": [
    "resulting in the new set of member forces and force coefficients:"
   ]
  },
  {
   "cell_type": "code",
   "execution_count": 9,
   "metadata": {},
   "outputs": [
    {
     "data": {
      "text/html": [
       "<div>\n",
       "<style scoped>\n",
       "    .dataframe tbody tr th:only-of-type {\n",
       "        vertical-align: middle;\n",
       "    }\n",
       "\n",
       "    .dataframe tbody tr th {\n",
       "        vertical-align: top;\n",
       "    }\n",
       "\n",
       "    .dataframe thead th {\n",
       "        text-align: right;\n",
       "    }\n",
       "</style>\n",
       "<table border=\"1\" class=\"dataframe\">\n",
       "  <thead>\n",
       "    <tr style=\"text-align: right;\">\n",
       "      <th></th>\n",
       "      <th>lambda_</th>\n",
       "      <th>force</th>\n",
       "    </tr>\n",
       "  </thead>\n",
       "  <tbody>\n",
       "    <tr>\n",
       "      <th>0</th>\n",
       "      <td>1.250000e-01</td>\n",
       "      <td>1.250000e-01</td>\n",
       "    </tr>\n",
       "    <tr>\n",
       "      <th>1</th>\n",
       "      <td>2.500000e-01</td>\n",
       "      <td>2.500000e-01</td>\n",
       "    </tr>\n",
       "    <tr>\n",
       "      <th>2</th>\n",
       "      <td>-7.312322e-10</td>\n",
       "      <td>-7.312322e-10</td>\n",
       "    </tr>\n",
       "    <tr>\n",
       "      <th>3</th>\n",
       "      <td>2.500000e-01</td>\n",
       "      <td>2.500000e-01</td>\n",
       "    </tr>\n",
       "    <tr>\n",
       "      <th>4</th>\n",
       "      <td>-2.500000e-01</td>\n",
       "      <td>-3.535534e-01</td>\n",
       "    </tr>\n",
       "    <tr>\n",
       "      <th>5</th>\n",
       "      <td>-2.500000e-01</td>\n",
       "      <td>-3.535534e-01</td>\n",
       "    </tr>\n",
       "  </tbody>\n",
       "</table>\n",
       "</div>"
      ],
      "text/plain": [
       "        lambda_         force\n",
       "0  1.250000e-01  1.250000e-01\n",
       "1  2.500000e-01  2.500000e-01\n",
       "2 -7.312322e-10 -7.312322e-10\n",
       "3  2.500000e-01  2.500000e-01\n",
       "4 -2.500000e-01 -3.535534e-01\n",
       "5 -2.500000e-01 -3.535534e-01"
      ]
     },
     "execution_count": 9,
     "metadata": {},
     "output_type": "execute_result"
    }
   ],
   "source": [
    "s.member_properties[['lambda_', 'force']]"
   ]
  },
  {
   "cell_type": "markdown",
   "metadata": {},
   "source": [
    "The following visualizes the applied forces superimposed on the structure:"
   ]
  },
  {
   "cell_type": "code",
   "execution_count": 10,
   "metadata": {},
   "outputs": [
    {
     "data": {
      "application/vnd.jupyter.widget-view+json": {
       "model_id": "843149f763d34e4d83d9315f65b2cbf2",
       "version_major": 2,
       "version_minor": 0
      },
      "image/png": "[encoded data removed]",
      "text/html": [
       "\n",
       "            <div style=\"display: inline-block;\">\n",
       "                <div class=\"jupyter-widgets widget-label\" style=\"text-align: center;\">\n",
       "                    Figure\n",
       "                </div>\n",
       "                <img src='data:image/png;base64,iVBORw0KGgoAAAANSUhEUgAAAoAAAAHgCAYAAAA10dzkAAAAOXRFWHRTb2Z0d2FyZQBNYXRwbG90bGliIHZlcnNpb24zLjcuMSwgaHR0cHM6Ly9tYXRwbG90bGliLm9yZy/bCgiHAAAACXBIWXMAAA9hAAAPYQGoP6dpAAAWNElEQVR4nO3de4zlZXnA8eecMzO7s7uzAooCYkWlFRNrFS8tmLqgYIWGFK2NMUHbpipupF25WS/RSNtI1bT1juKFEKgmBEw0FqRgWAxK1dZVMJgoAUSQ6O6CyM5eOLf+MRx2YXeYmTNnzu/yfD7J5sz83rNvnn9Ozjfvb2ZOo9/v9wMAgDSaRQ8AAMB4CUAAgGQEIABAMgIQACAZAQgAkIwABABIRgACACQjAAEAkhGAAADJCEAAgGQEIABAMgIQACAZAQgAkIwABABIRgACACQjAAEAkhGAAADJCEAAgGQEIABAMgIQACAZAQgAkIwABABIRgACACQjAAEAkhGAAADJCEAAgGQEIABAMgIQACAZAQgAkIwABABIRgACACQjAAEAkhGAAADJCEAAgGQEIABAMgIQACAZAQgAkIwABABIRgACACQjAAEAkhGAAADJCEAAgGQEIABAMgIQACAZAQgAkIwABABIRgACACQjAAEAkhGAAADJCEAAgGQEIABAMgIQACAZAQgAkIwABABIRgACACQjAAEAkhGAAADJCEAAgGQEIABAMgIQACAZAQgAkIwABABIRgACACQjAAEAkhGAAADJCEAAgGQEIABAMgIQACAZAQgAkIwABABIRgACACQjAAEAkhGAAADJCEAAgGQEIABAMgIQACAZAQgAkIwABABIRgACACQjAAEAkhGAAADJCEAAgGQEIABAMgIQACAZAQgAkIwABABIRgACACQjAAEAkhGAAADJCEAAgGQEIABAMgIQACAZAQgAkIwABABIRgACACQjAAEAkhGAAADJCEAAgGQEIABAMgIQACAZAQgAkIwABABIRgACACQjAAEAkhGAAADJCEAAgGQEIABAMgIQACAZAQgAkIwABABIRgACACQjAAEAkhGAAADJCEAAgGQEIABAMgIQACAZAQgAkIwABABIRgACACQjAAEAkhGAAADJCEAAgGQEIABAMgIQACAZAQgAkIwABABIRgACACQjAAEAkhGAAADJCEAAgGQEIABAMgIQACAZAQgAkIwABABIRgACACQjAKHE2u12dLvdaLfbRY8CpeA1AaMxUfQAwPw2b94cn7/m5riy8fI4dN1U/PqCPy16JCjEBdfeER/877vi5U/txst+fU2ccsopcfLJJxc9FlRWo9/v94seAnisdrsdmzdvjl99/oL4myMviGg0IiJiTW933Dr7/oKng/H65OSr4mOrX/Po96f97tvxz1s/G1vPujw2bNgQk5OTBU4H1SQAoYS63W4cfe6fx13N8x+Nv4E1vV2x5ZdvLWgyGK9Pr/+L+MTBf7Xf9ekHvxNvX/9AfPSjH41Wq1XAZFBtbgFDCfV6vbh34u0R/cZ+azub0/GiZ3zBSSC198nJV8Un9jn529euJ708Tj2lF71eTwDCEJwAQkkd/x9nxs33vGHe9bVTrdhx4YYxTgTjM/iZv/m0HvpRdC4+Z3wDQc34LWAoqSev/VXEnk3zrs8+3I1177lxjBPBeCwUf7FnSxz0i38c2zxQRwIQSqwVP4nYLgLJY6H4a7R/FKu2nTe+gaCmBCCUXLPzk2jdLQKpv4Xirxm3xPTs+eMbCGpMAEIFtHb/JF699r/mXReBVN1C8feKZ6+Pta0PjG8gqDkBCBXxtMmtsXnji+ZdF4FU1ULxd8KzD4pvnfnCsc0DGQhAqJANRx8sAqmVxcTfDe84dnwDQRICECpGBFIX4g+KIwChgkQgVSf+oFgCECpKBFJV4g+KJwChwkQgVSP+oBwEIFScCKQqxB+UhwCEGhCBlJ34g3IRgFATIpCyEn9QPgIQakQEUjbiD8pJAELNiEDKQvxBeQlAqCERSNHEH5SbAISSufbn18ZVt14V9zx0T3QjojcR0Z2OuOvBu+Kq/7kqvrXlW4vaRwRSFPEH5dfo9/v9oocA9nrlF14ZN915U7S77YidEdGJiF5EPBjR6DTiuGccF9/59+8ser8bb38gTrhoy7zra6dasePCDcueGyJWLv46nU4c8t5Dort9NrqzvVj3wERsu7a9jEkhNyeAUDIXn35xtJvtiH7sfYV25h6eNPGk+OLZX1zSfk4CGRcnf1AdAhBK5uinHB3HPf24aDVae1+h7YjoRbzgyBfEMc84Zsl7ikBWmviDahGAUEIXn35x9Jv9iNYjF7oRE52J+Nw/fG7oPUUgK0X8QfUIQCih5x/2/HjmzDOj0Y5o7o5o7Y445snHDHX6ty8RyKiJP6gmAQgldcd77ojbdx4bP/3d4fGzQ46NWy++dST7ikBGRfxBdQlASEgEslziD6pNAEJSIpBhiT+oPgEIiYlAlkr8QT0IQEhOBLJY4g/qQwACIpAFiT+oFwEIRIQIZH7iD+pHAAKPEoE8nviDehKAwGOIQAbEH9SXAAT2IwIRf1BvAhA4IBGYl/iD+hOAwLxEYD7iD3IQgMATEoF5iD/IQwACCxKB9Sf+IJeJogcAqmEQgSdctOWA64MI3HHhhjFPxnKVMf7O/sbZ8d17vhszrZm4f8f90ev3YrY3G/1mL2JdxG+nO/Hif3lxdB/sRrPRjIOnD47nPfV58al3fGqsc0JVCUBg0URg/ZQx/iIiZqZm4vu/+n40ohH9Pf2IRux9x5qK6EbEbffeFrt/u3vu0p6peM0bXzP2OaGq3AIGlsTt4Pooa/xFRHzwpA/GTGsm+o1+ROfAz+nu7kZERKvRiunmdJz3+vPGOCFUmwAElkwEVl+Z4y8iotlsxsaXbozoR6yaWnXA57T3tCMiYro/He97w/ui0WiMc0SoNAEIDEUEVlfZ42/gQ3/2oVjTXBPdqW5E/5GL+zZeLyL6EVO9Kad/sEQCEBiaCKyeqsRfRESr1Yq3HPuW6ERn7of+IvYGYGfu65mJmXj369/t9A+WSAACyyICq6NK8TfwkVM+Eqsbq2N6anruwqDz9sw9zLRmnP7BEAQgsGwisPyqGH8REasmV8Wb/vBN0ZvszV0YvGt1IlY3V8fZp53t9A+GIACBkRCB5VXV+Bv4+Gkfj2azOXcbeNB6vYgj1h4R5/7luUWOBpUlAIGREYHlU/X4i4iYnpqO1z33dXO/CNKIuV/+6EZsfPVGp38wJAEIjJQILI86xN/AZ07/TJx01Elx/I51cfxvJuLkPTNO/2AZBCAwciKweHWKv4iI9avXx3VnXReXTf1BXNI8ND77tN93+gfLIACBFSECi1O3+ANGTwACK0YEjp/4AxZDAAIrSgSOj/gDFksAAitOBK488QcshQAExkIErhzxByyVAATGRgSOnvgDhiEAgbESgaMj/oBhCUBg7ETg8ok/YDkEIFAIETg88QcslwAECiMCl078AaMgAIFCicDFE3/AqAhAoHAicGHiDxglAQiUggicn/gDRk0AAqUhAvcn/oCVIACBUhGBe4k/YKUIQKB0RKD4A1aWAARKKXMEij9gpQlAoLQyRqD4A8ZBAAKllikCxR8wLgIQKL0MESj+gHESgEAl1DkCxR8wbgIQqIw6RqD4A4ogAIFKqVMEij+gKAIQqJw6RKD4A4okAIFKqnIEij+gaAIQqKwqRqD4A8pAAAKVVqUIFH9AWQhAoPKqEIHiDygTAQjUQpkjUPwBZSMAgdooYwSKP6CMBCBQK2WKQPEHlJUABGqnDBEo/oAyE4BALRUZgeIPKDsBCNRWEREo/oAqEIBArY0zAsUfUBUCEKi9cUSg+AOqRAACKaxkBIo/oGoEIJDGSkSg+AOqSAACqYwyAsUfUFUCEEhnFBEo/oAqE4BASsuJQPEHVJ0ABNIaJgLFH1AHAhBIbSkRKP6AupgoegCAog0i8ISLthxwffbhbky964Zod/vz7iH+gCpxAggQC58Eij+gTgQgwCMWisADEX9AFQlAgH0sJQLFH1BVAhDgcTYcfXD89Uue9oTPaTZC/AGVJQABHueCa++IS//310/4nF4/hv7sYICiCUCAfSz0p172NcxnBwOUgQAEeMRS4m9ABAJVJAABYuH4+6PD1867JgKBqhGAQHqL+YSPH533x0N/djBA2QhAILWlfLzbMJ8dDFBGAhBIa5jP9hWBQB0IQCClYeJvQAQCVScAgXSWE38DIhCoMgEIpDKK+BsQgUBVCUAgjVHG34AIBKpIAAIprET8DYhAoGoEIFB7Kxl/AyIQqBIBCNTaOOJvQAQCVSEAgdoaZ/wNiECgCgQgUEtFxN+ACATKTgACtVNk/A2IQKDMBCBQK2WIvwERCJSVAARqo0zxNyACgTISgEAtlDH+BkQgUDYCEKi8MsffgAgEykQAApVWhfgbEIFAWQhAoLKqFH8DIhAoAwEIVFIV429ABAJFE4BA5VQ5/gZEIFAkAQhUSh3ib0AEAkURgEBl1Cn+BkQgUAQBCFRCHeNvQAQC4yYAgdKrc/wNiEBgnAQgUGoZ4m9ABALjIgCB0soUfwMiEBgHAQiUUsb4GxCBwEoTgEDpZI6/AREIrCQBCJSK+NtLBAIrRQACpSH+9icCgZUgAIFSEH/zE4HAqAlAoHDib2EiEBglAQgUSvwtnggERkUAAoURf0snAoFREIBAIcTf8EQgsFwCEBg78bd8IhBYDgEIjJX4Gx0RCAxLAAJjI/5GTwQCwxCAwFiIv5UjAoGlEoDAihN/K08EAkshAIEVJf7GRwQCiyUAgRUj/sZPBAKLIQCBFSH+iiMCgYUIQGDkxF/x6haBd/7mzjji74+IP9n24zj+wfviFT+9JdrtdtFjQWUJQGCkxF951CkC33rJW+O++++Lrc1ubF8TcW+jE+f82zlFjwWVJQCBkRF/5VOHCLx3+73x7du/PfdNLyIac/++etNXnQLCkAQgMBLir7yqHoFnXnpmTDYmI1oxF4AREa2IrbNb450feWeBk0F1CUBg2cRf+VU1Arc+uDW+eds3o7u7O3dhEIBTEe1+O6644QqngDAEAQgsi/irjipG4MZLN0a30Y09nT1zF/qPLEzOPeyKXbHpw5sKmQ2qTAACQxN/1VOlCHxg9oH42i1fi6mYiph45OIgAFtzX892ZuOyay5zCghLJACBoYi/6qpKBJ516VnRaXSiv6e/9+I+Xw7ewRqrG04BYYkEILBk4q/6yh6BD+16KK7ccmVExLyne1PTUxERsaO7I7709S85BYQlEIDAkoi/+ihzBG66fFM8HA9HK1p7b/8+TmOqERER/ehHc1XTKSAswTwvK4D9ib/6GUTgCRdtOeD6IAJ3XLhhrHO99DkvjZm1MzHVmIodu3ZEt9eNS753SfTXdaK/J2Ly4Ua8+ZQ3R3N3MxqNRkxPTsezDn3WWGeEKmv0+/3+wk8DinDH214cnfvvi4lDDo9nX/x/hc4i/urtxtsfmDcCIyLWTrXGHoH76nQ6cch7D4nu9tnozvZi3QMTse1at3xhWG4BAwsSf/VX5tvBwOgJQOAJib88RCDkIQCBeYm/fEQg5CAAgQMSf3mJQKg/AQjsR/whAqHeBCDwGOKPAREI9SUAgUeJPx5PBEI9CUAgIsQf8xOBUD8CEBB/LEgEQr0IQEhO/LFYIhDqQwBCYuKPpRKBUA8CEJISfwxLBEL1CUBISPyxXCIQqk0AQkmt37g+njP7w3junvviOT/7YRx28mEj2Vf8MSoiEKpLAEIJXXPLNbFz9865b1pz/7bt3BbXffe6Ze0r/hg1EQjVJAChhDZ9eVNELyK6j1xoRXQnunH+x84fek/xx0oRgVA9AhBK5saf3hg/3/rz6Pa6cxEYETEREY2IO7feGdfffP2S9xR/rDQRCNUiAKFkzrninJhpzUQ0Ym8ATs497OrvinP+7Zwl7Sf+GBcRCNUhAKFkbnjXDXHbv94WJ77kxGg8JaKxJmKyF/Ha418bd191d/zgyz9Y9F7ij3ETgVANAhBKZv30+jjykCNj7eq10ZyIaDTnDgPXTa+Lw558WKyaWrWofcQfRRGBUH4CEGpI/FE0EQjlJgChZsQfZSECobwEINSI+KNsRCCUkwCEmhB/lJUIhPIRgFAD4o+yE4FQLgIQKk78URUiEMpDAEKFiT+qRgRCOQhAqCjxR1WJQCieAIQKEn9UnQiEYglAqBjxR12IQCiOAIQKEX/UjQiEYghAqIgf73yB+KOWFhOBB73/pjFOBPUnAKEC2gefEbc8PH/ciT+qbuEI7MVD3a+McSKoNwEIJddbc0b0D/3bedfFH3WxUARGTMfO9V8b2zxQZwIQSqzbPCNiRvyRx4IR2FwTew7/+vgGgpoSgFBSt297UcSk+COfhSNwbWw/5srxDQQ1JAChpH7x4AvnXRN/1N2CEdhaN75hoIYmih4A2F+73Y7TDv9GXHH3GyIak49Ze1nn9vjijz8Xd7ytoOFgTJ4REV9pHhVvXPuOxy70+/F79346rr++Hxs2bIjJyckD/n9gfgIQSqjZbMbT7z4obvzlpnjVkR+PTnPuDe5lu26Ly37zoegUPB+My7FxX1z+u+1xxuEfmLvQ78c/bf9CvL59c3z+6qPixBNPLHZAqKhGv9/vFz0E8Fjtdjs2b94cT/30m+KhiXVx+tM/HMd27oqL2v8ZjWgUPR6M3feaR8Vbpv8uzt12WbxxdnM83OvH1rMudwIIQxKAUGLXX399XH311XHqqafGSSedVPQ4UDivCRgNAQgl1m63o9lsRq/Xc8oB4TUBoyIAAQCS8WdgAACSEYAAAMkIQACAZAQgAEAyAhAAIBkBCACQjAAEAEhGAAIAJCMAAQCSEYAAAMkIQACAZAQgAEAyAhAAIBkBCACQjAAEAEhGAAIAJCMAAQCSEYAAAMkIQACAZAQgAEAyAhAAIBkBCACQjAAEAEhGAAIAJCMAAQCSEYAAAMkIQACAZAQgAEAyAhAAIBkBCACQjAAEAEhGAAIAJCMAAQCSEYAAAMkIQACAZAQgAEAyAhAAIBkBCACQjAAEAEhGAAIAJCMAAQCSEYAAAMkIQACAZAQgAEAyAhAAIBkBCACQjAAEAEhGAAIAJCMAAQCSEYAAAMkIQACAZAQgAEAyAhAAIBkBCACQjAAEAEhGAAIAJCMAAQCSEYAAAMkIQACAZAQgAEAyAhAAIBkBCACQjAAEAEhGAAIAJCMAAQCSEYAAAMkIQACAZAQgAEAyAhAAIBkBCACQjAAEAEhGAAIAJCMAAQCSEYAAAMkIQACAZAQgAEAyAhAAIBkBCACQjAAEAEhGAAIAJCMAAQCSEYAAAMkIQACAZAQgAEAyAhAAIBkBCACQjAAEAEhGAAIAJCMAAQCSEYAAAMkIQACAZAQgAEAyAhAAIBkBCACQjAAEAEhGAAIAJCMAAQCSEYAAAMkIQACAZAQgAEAyAhAAIBkBCACQjAAEAEhGAAIAJCMAAQCSEYAAAMkIQACAZAQgAEAyAhAAIBkBCACQjAAEAEhGAAIAJCMAAQCSEYAAAMkIQACAZAQgAEAyAhAAIBkBCACQjAAEAEhGAAIAJCMAAQCSEYAAAMkIQACAZAQgAEAyAhAAIBkBCACQjAAEAEhGAAIAJCMAAQCSEYAAAMkIQACAZAQgAEAyAhAAIBkBCACQjAAEAEhGAAIAJCMAAQCSEYAAAMkIQACAZP4f3BZFJtiBUuQAAAAASUVORK5CYII=' width=640.0/>\n",
       "            </div>\n",
       "        "
      ],
      "text/plain": [
       "Canvas(toolbar=Toolbar(toolitems=[('Home', 'Reset original view', 'home', 'home'), ('Back', 'Back to previous …"
      ]
     },
     "metadata": {},
     "output_type": "display_data"
    }
   ],
   "source": [
    "plotter = MatplotlibPlotter()\n",
    "plotter.plot(s)\n",
    "_, ax = plotter.get_handles()\n",
    "plotter.plot_arrows(s.nodes, f, color='g')\n",
    "ax.view_init(90,-90)\n",
    "ax.axis('off')\n",
    "ax.axis('equal')\n",
    "plt.show()"
   ]
  },
  {
   "cell_type": "markdown",
   "metadata": {},
   "source": [
    "The forces are represented by the green arrows.\n",
    "\n",
    "When it is not possible to find a set of internal forces that satisfy the equilibrium conditions an Exception with a message \"could not find equilibrium\" is produced. For example::"
   ]
  },
  {
   "cell_type": "code",
   "execution_count": 11,
   "metadata": {},
   "outputs": [
    {
     "ename": "Exception",
     "evalue": "could not find equilibrium",
     "output_type": "error",
     "traceback": [
      "\u001B[1;31m---------------------------------------------------------------------------\u001B[0m",
      "\u001B[1;31mException\u001B[0m                                 Traceback (most recent call last)",
      "Cell \u001B[1;32mIn[11], line 2\u001B[0m\n\u001B[0;32m      1\u001B[0m f \u001B[38;5;241m=\u001B[39m \u001B[38;5;241m0.125\u001B[39m\u001B[38;5;241m*\u001B[39mnp\u001B[38;5;241m.\u001B[39marray([[\u001B[38;5;241m0\u001B[39m,\u001B[38;5;241m1\u001B[39m,\u001B[38;5;241m0\u001B[39m],[\u001B[38;5;241m0\u001B[39m,\u001B[38;5;241m-\u001B[39m\u001B[38;5;241m1\u001B[39m,\u001B[38;5;241m0\u001B[39m],[\u001B[38;5;241m0\u001B[39m,\u001B[38;5;241m-\u001B[39m\u001B[38;5;241m1\u001B[39m,\u001B[38;5;241m0\u001B[39m],[\u001B[38;5;241m0\u001B[39m,\u001B[38;5;241m2\u001B[39m,\u001B[38;5;241m0\u001B[39m]])\u001B[38;5;241m.\u001B[39mtranspose()\n\u001B[1;32m----> 2\u001B[0m \u001B[43ms\u001B[49m\u001B[38;5;241;43m.\u001B[39;49m\u001B[43mequilibrium\u001B[49m\u001B[43m(\u001B[49m\u001B[43mf\u001B[49m\u001B[43m)\u001B[49m\n",
      "File \u001B[1;32m~\\github\\tensegrity\\examples\\../src\\tnsgrt\\structure.py:1378\u001B[0m, in \u001B[0;36mStructure.equilibrium\u001B[1;34m(self, force, lambda_bar, equalities, epsilon)\u001B[0m\n\u001B[0;32m   1374\u001B[0m \u001B[38;5;66;03m# if infeasible, throw error\u001B[39;00m\n\u001B[0;32m   1375\u001B[0m \u001B[38;5;28;01mif\u001B[39;00m status \u001B[38;5;241m==\u001B[39m \u001B[38;5;124m'\u001B[39m\u001B[38;5;124minfeasible\u001B[39m\u001B[38;5;124m'\u001B[39m:\n\u001B[0;32m   1376\u001B[0m     \u001B[38;5;66;03m# TODO: Should we run a feasibility test if numerical issues arise\u001B[39;00m\n\u001B[0;32m   1377\u001B[0m     \u001B[38;5;66;03m# optim.feasibility(A, blo, bup, xlo, xup)\u001B[39;00m\n\u001B[1;32m-> 1378\u001B[0m     \u001B[38;5;28;01mraise\u001B[39;00m \u001B[38;5;167;01mException\u001B[39;00m(\u001B[38;5;124m'\u001B[39m\u001B[38;5;124mcould not find equilibrium\u001B[39m\u001B[38;5;124m'\u001B[39m)\n\u001B[0;32m   1380\u001B[0m \u001B[38;5;66;03m# sum reactions at nodes\u001B[39;00m\n\u001B[0;32m   1381\u001B[0m reactions \u001B[38;5;241m=\u001B[39m np\u001B[38;5;241m.\u001B[39mzeros((\u001B[38;5;241m3\u001B[39m, number_of_nodes))\n",
      "\u001B[1;31mException\u001B[0m: could not find equilibrium"
     ]
    }
   ],
   "source": [
    "f = 0.125*np.array([[0,1,0],[0,-1,0],[0,-1,0],[0,2,0]]).transpose()\n",
    "s.equilibrium(f)"
   ]
  },
  {
   "cell_type": "markdown",
   "metadata": {},
   "source": [
    "can not be made in equilibrium only by internal forces."
   ]
  },
  {
   "cell_type": "markdown",
   "metadata": {},
   "source": [
    "## Stiffness\n",
    "\n",
    "Once a structure is in equilibrium, its response to forces can be calculated in terms of its *stiffness matrix*. For that it is necessary to characterize the members' geometry and material properties. The fundamental properties are the member radius, and elasticity modulus:"
   ]
  },
  {
   "cell_type": "code",
   "execution_count": 12,
   "metadata": {},
   "outputs": [
    {
     "data": {
      "text/html": [
       "<div>\n",
       "<style scoped>\n",
       "    .dataframe tbody tr th:only-of-type {\n",
       "        vertical-align: middle;\n",
       "    }\n",
       "\n",
       "    .dataframe tbody tr th {\n",
       "        vertical-align: top;\n",
       "    }\n",
       "\n",
       "    .dataframe thead th {\n",
       "        text-align: right;\n",
       "    }\n",
       "</style>\n",
       "<table border=\"1\" class=\"dataframe\">\n",
       "  <thead>\n",
       "    <tr style=\"text-align: right;\">\n",
       "      <th></th>\n",
       "      <th>radius</th>\n",
       "      <th>inner_radius</th>\n",
       "      <th>modulus</th>\n",
       "    </tr>\n",
       "  </thead>\n",
       "  <tbody>\n",
       "    <tr>\n",
       "      <th>0</th>\n",
       "      <td>0.005</td>\n",
       "      <td>0.0</td>\n",
       "      <td>2.000000e+11</td>\n",
       "    </tr>\n",
       "    <tr>\n",
       "      <th>1</th>\n",
       "      <td>0.005</td>\n",
       "      <td>0.0</td>\n",
       "      <td>2.000000e+11</td>\n",
       "    </tr>\n",
       "    <tr>\n",
       "      <th>2</th>\n",
       "      <td>0.005</td>\n",
       "      <td>0.0</td>\n",
       "      <td>2.000000e+11</td>\n",
       "    </tr>\n",
       "    <tr>\n",
       "      <th>3</th>\n",
       "      <td>0.005</td>\n",
       "      <td>0.0</td>\n",
       "      <td>2.000000e+11</td>\n",
       "    </tr>\n",
       "    <tr>\n",
       "      <th>4</th>\n",
       "      <td>0.010</td>\n",
       "      <td>0.0</td>\n",
       "      <td>2.000000e+11</td>\n",
       "    </tr>\n",
       "    <tr>\n",
       "      <th>5</th>\n",
       "      <td>0.010</td>\n",
       "      <td>0.0</td>\n",
       "      <td>2.000000e+11</td>\n",
       "    </tr>\n",
       "  </tbody>\n",
       "</table>\n",
       "</div>"
      ],
      "text/plain": [
       "   radius  inner_radius       modulus\n",
       "0   0.005           0.0  2.000000e+11\n",
       "1   0.005           0.0  2.000000e+11\n",
       "2   0.005           0.0  2.000000e+11\n",
       "3   0.005           0.0  2.000000e+11\n",
       "4   0.010           0.0  2.000000e+11\n",
       "5   0.010           0.0  2.000000e+11"
      ]
     },
     "execution_count": 12,
     "metadata": {},
     "output_type": "execute_result"
    }
   ],
   "source": [
    "s.member_properties[['radius', 'inner_radius', 'modulus']]"
   ]
  },
  {
   "cell_type": "markdown",
   "metadata": {},
   "source": [
    "For calculating the stiffness matrix of a pretensioned structure, it also necessary to know the member's force coefficient and the derived member stiffness property. As seen before, the force coefficient and the force are obtained during the equilibrium calculation:"
   ]
  },
  {
   "cell_type": "code",
   "execution_count": 13,
   "metadata": {},
   "outputs": [
    {
     "data": {
      "text/html": [
       "<div>\n",
       "<style scoped>\n",
       "    .dataframe tbody tr th:only-of-type {\n",
       "        vertical-align: middle;\n",
       "    }\n",
       "\n",
       "    .dataframe tbody tr th {\n",
       "        vertical-align: top;\n",
       "    }\n",
       "\n",
       "    .dataframe thead th {\n",
       "        text-align: right;\n",
       "    }\n",
       "</style>\n",
       "<table border=\"1\" class=\"dataframe\">\n",
       "  <thead>\n",
       "    <tr style=\"text-align: right;\">\n",
       "      <th></th>\n",
       "      <th>lambda_</th>\n",
       "      <th>force</th>\n",
       "      <th>stiffness</th>\n",
       "    </tr>\n",
       "  </thead>\n",
       "  <tbody>\n",
       "    <tr>\n",
       "      <th>0</th>\n",
       "      <td>1.0</td>\n",
       "      <td>1.000000</td>\n",
       "      <td>0.0</td>\n",
       "    </tr>\n",
       "    <tr>\n",
       "      <th>1</th>\n",
       "      <td>1.0</td>\n",
       "      <td>1.000000</td>\n",
       "      <td>0.0</td>\n",
       "    </tr>\n",
       "    <tr>\n",
       "      <th>2</th>\n",
       "      <td>1.0</td>\n",
       "      <td>1.000000</td>\n",
       "      <td>0.0</td>\n",
       "    </tr>\n",
       "    <tr>\n",
       "      <th>3</th>\n",
       "      <td>1.0</td>\n",
       "      <td>1.000000</td>\n",
       "      <td>0.0</td>\n",
       "    </tr>\n",
       "    <tr>\n",
       "      <th>4</th>\n",
       "      <td>-1.0</td>\n",
       "      <td>-1.414214</td>\n",
       "      <td>0.0</td>\n",
       "    </tr>\n",
       "    <tr>\n",
       "      <th>5</th>\n",
       "      <td>-1.0</td>\n",
       "      <td>-1.414214</td>\n",
       "      <td>0.0</td>\n",
       "    </tr>\n",
       "  </tbody>\n",
       "</table>\n",
       "</div>"
      ],
      "text/plain": [
       "   lambda_     force  stiffness\n",
       "0      1.0  1.000000        0.0\n",
       "1      1.0  1.000000        0.0\n",
       "2      1.0  1.000000        0.0\n",
       "3      1.0  1.000000        0.0\n",
       "4     -1.0 -1.414214        0.0\n",
       "5     -1.0 -1.414214        0.0"
      ]
     },
     "execution_count": 13,
     "metadata": {},
     "output_type": "execute_result"
    }
   ],
   "source": [
    "s.equilibrium()\n",
    "s.member_properties[['lambda_', 'force', 'stiffness']]"
   ]
  },
  {
   "cell_type": "markdown",
   "metadata": {},
   "source": [
    "Because the stiffness is a \"derived\" property, it does not get automatically populated, which can be done by calling `tnsgrt.structure.Structure.update_member_properties`:"
   ]
  },
  {
   "cell_type": "code",
   "execution_count": 14,
   "metadata": {},
   "outputs": [
    {
     "data": {
      "text/html": [
       "<div>\n",
       "<style scoped>\n",
       "    .dataframe tbody tr th:only-of-type {\n",
       "        vertical-align: middle;\n",
       "    }\n",
       "\n",
       "    .dataframe tbody tr th {\n",
       "        vertical-align: top;\n",
       "    }\n",
       "\n",
       "    .dataframe thead th {\n",
       "        text-align: right;\n",
       "    }\n",
       "</style>\n",
       "<table border=\"1\" class=\"dataframe\">\n",
       "  <thead>\n",
       "    <tr style=\"text-align: right;\">\n",
       "      <th></th>\n",
       "      <th>stiffness</th>\n",
       "    </tr>\n",
       "  </thead>\n",
       "  <tbody>\n",
       "    <tr>\n",
       "      <th>0</th>\n",
       "      <td>1.570796e+07</td>\n",
       "    </tr>\n",
       "    <tr>\n",
       "      <th>1</th>\n",
       "      <td>1.570796e+07</td>\n",
       "    </tr>\n",
       "    <tr>\n",
       "      <th>2</th>\n",
       "      <td>1.570796e+07</td>\n",
       "    </tr>\n",
       "    <tr>\n",
       "      <th>3</th>\n",
       "      <td>1.570796e+07</td>\n",
       "    </tr>\n",
       "    <tr>\n",
       "      <th>4</th>\n",
       "      <td>4.442883e+07</td>\n",
       "    </tr>\n",
       "    <tr>\n",
       "      <th>5</th>\n",
       "      <td>4.442883e+07</td>\n",
       "    </tr>\n",
       "  </tbody>\n",
       "</table>\n",
       "</div>"
      ],
      "text/plain": [
       "      stiffness\n",
       "0  1.570796e+07\n",
       "1  1.570796e+07\n",
       "2  1.570796e+07\n",
       "3  1.570796e+07\n",
       "4  4.442883e+07\n",
       "5  4.442883e+07"
      ]
     },
     "execution_count": 14,
     "metadata": {},
     "output_type": "execute_result"
    }
   ],
   "source": [
    "s.update_member_properties('stiffness')\n",
    "s.member_properties[['stiffness']]"
   ]
  },
  {
   "cell_type": "markdown",
   "metadata": {},
   "source": [
    "After setting the material properties, one can calculate the stiffness model associated with the current equilibrium:"
   ]
  },
  {
   "cell_type": "code",
   "execution_count": 15,
   "metadata": {},
   "outputs": [
    {
     "name": "stderr",
     "output_type": "stream",
     "text": [
      "C:\\Users\\mauri\\github\\tensegrity\\examples\\../src\\tnsgrt\\structure.py:1447: UserWarning: number of nodes is small; storage set to 'dense'\n",
      "  warnings.warn(\"number of nodes is small; storage set to 'dense'\")\n"
     ]
    }
   ],
   "source": [
    "stiffness, _, _ = s.stiffness()"
   ]
  },
  {
   "cell_type": "markdown",
   "metadata": {},
   "source": [
    "For large models, the stiffness is stored and calculated as sparse arrays. However, for small models, such as this one, the model is stored in dense arrays. The warning message can be suppressed by explicitly setting the parameter ``storage=dense``:"
   ]
  },
  {
   "cell_type": "code",
   "execution_count": 16,
   "metadata": {},
   "outputs": [],
   "source": [
    "stiffness, _, _ = s.stiffness(storage='dense')"
   ]
  },
  {
   "cell_type": "markdown",
   "metadata": {},
   "source": [
    "**WARNING:** setting ``storage='dense'`` for large models is not advised.\n",
    "\n",
    "The stiffness model can be used to calculate various quantities of interest. One example is the calculation of the approximate displacements generated in response to a set of nodal forces. For the nodal forces:"
   ]
  },
  {
   "cell_type": "code",
   "execution_count": 17,
   "metadata": {},
   "outputs": [],
   "source": [
    "f = 0.125*np.array([[0,1,0],[0,-1,0],[0,-2,0],[0,2,0]]).transpose()"
   ]
  },
  {
   "cell_type": "markdown",
   "metadata": {},
   "source": [
    "these approximate displacements can be, in principle, calculated using:"
   ]
  },
  {
   "cell_type": "code",
   "execution_count": 18,
   "metadata": {},
   "outputs": [
    {
     "ename": "LinAlgError",
     "evalue": "Singular matrix",
     "output_type": "error",
     "traceback": [
      "\u001B[1;31m---------------------------------------------------------------------------\u001B[0m",
      "\u001B[1;31mLinAlgError\u001B[0m                               Traceback (most recent call last)",
      "Cell \u001B[1;32mIn[18], line 1\u001B[0m\n\u001B[1;32m----> 1\u001B[0m \u001B[43mstiffness\u001B[49m\u001B[38;5;241;43m.\u001B[39;49m\u001B[43mdisplacements\u001B[49m\u001B[43m(\u001B[49m\u001B[43mf\u001B[49m\u001B[43m)\u001B[49m\n",
      "File \u001B[1;32m~\\github\\tensegrity\\examples\\../src\\tnsgrt\\stiffness.py:522\u001B[0m, in \u001B[0;36mStiffness.displacements\u001B[1;34m(self, f)\u001B[0m\n\u001B[0;32m    517\u001B[0m m \u001B[38;5;241m=\u001B[39m \u001B[38;5;28mself\u001B[39m\u001B[38;5;241m.\u001B[39mK\u001B[38;5;241m.\u001B[39mshape[\u001B[38;5;241m0\u001B[39m] \u001B[38;5;28;01mif\u001B[39;00m \u001B[38;5;28mself\u001B[39m\u001B[38;5;241m.\u001B[39mT \u001B[38;5;129;01mis\u001B[39;00m \u001B[38;5;28;01mNone\u001B[39;00m \u001B[38;5;28;01melse\u001B[39;00m \u001B[38;5;28mself\u001B[39m\u001B[38;5;241m.\u001B[39mT\u001B[38;5;241m.\u001B[39mshape[\u001B[38;5;241m0\u001B[39m]\n\u001B[0;32m    518\u001B[0m \u001B[38;5;28;01massert\u001B[39;00m f\u001B[38;5;241m.\u001B[39mshape[\u001B[38;5;241m0\u001B[39m] \u001B[38;5;241m==\u001B[39m \u001B[38;5;241m3\u001B[39m \u001B[38;5;129;01mand\u001B[39;00m f\u001B[38;5;241m.\u001B[39mshape[\u001B[38;5;241m1\u001B[39m] \u001B[38;5;241m==\u001B[39m m \u001B[38;5;241m/\u001B[39m \u001B[38;5;241m3\u001B[39m, \u001B[38;5;124m'\u001B[39m\u001B[38;5;124mf must be a 3 x m array\u001B[39m\u001B[38;5;124m'\u001B[39m\n\u001B[0;32m    519\u001B[0m x \u001B[38;5;241m=\u001B[39m \u001B[38;5;28mself\u001B[39m\u001B[38;5;241m.\u001B[39mT \u001B[38;5;241m@\u001B[39m np\u001B[38;5;241m.\u001B[39mlinalg\u001B[38;5;241m.\u001B[39msolve(\u001B[38;5;28mself\u001B[39m\u001B[38;5;241m.\u001B[39mK,\n\u001B[0;32m    520\u001B[0m                              \u001B[38;5;28mself\u001B[39m\u001B[38;5;241m.\u001B[39mT\u001B[38;5;241m.\u001B[39mtranspose() \u001B[38;5;241m@\u001B[39m f\u001B[38;5;241m.\u001B[39mflatten(order\u001B[38;5;241m=\u001B[39m\u001B[38;5;124m'\u001B[39m\u001B[38;5;124mF\u001B[39m\u001B[38;5;124m'\u001B[39m)) \\\n\u001B[0;32m    521\u001B[0m     \u001B[38;5;28;01mif\u001B[39;00m \u001B[38;5;28mself\u001B[39m\u001B[38;5;241m.\u001B[39mT \u001B[38;5;129;01mis\u001B[39;00m \u001B[38;5;129;01mnot\u001B[39;00m \u001B[38;5;28;01mNone\u001B[39;00m \u001B[38;5;28;01melse\u001B[39;00m \\\n\u001B[1;32m--> 522\u001B[0m     \u001B[43mnp\u001B[49m\u001B[38;5;241;43m.\u001B[39;49m\u001B[43mlinalg\u001B[49m\u001B[38;5;241;43m.\u001B[39;49m\u001B[43msolve\u001B[49m\u001B[43m(\u001B[49m\u001B[38;5;28;43mself\u001B[39;49m\u001B[38;5;241;43m.\u001B[39;49m\u001B[43mK\u001B[49m\u001B[43m,\u001B[49m\u001B[43m \u001B[49m\u001B[43mf\u001B[49m\u001B[38;5;241;43m.\u001B[39;49m\u001B[43mflatten\u001B[49m\u001B[43m(\u001B[49m\u001B[43morder\u001B[49m\u001B[38;5;241;43m=\u001B[39;49m\u001B[38;5;124;43m'\u001B[39;49m\u001B[38;5;124;43mF\u001B[39;49m\u001B[38;5;124;43m'\u001B[39;49m\u001B[43m)\u001B[49m\u001B[43m)\u001B[49m\n\u001B[0;32m    523\u001B[0m \u001B[38;5;28;01mreturn\u001B[39;00m x\u001B[38;5;241m.\u001B[39mreshape((\u001B[38;5;241m3\u001B[39m, \u001B[38;5;28mint\u001B[39m(m \u001B[38;5;241m/\u001B[39m \u001B[38;5;241m3\u001B[39m)), order\u001B[38;5;241m=\u001B[39m\u001B[38;5;124m'\u001B[39m\u001B[38;5;124mF\u001B[39m\u001B[38;5;124m'\u001B[39m)\n",
      "File \u001B[1;32m<__array_function__ internals>:200\u001B[0m, in \u001B[0;36msolve\u001B[1;34m(*args, **kwargs)\u001B[0m\n",
      "File \u001B[1;32m~\\github\\tensegrity\\venv\\Lib\\site-packages\\numpy\\linalg\\linalg.py:386\u001B[0m, in \u001B[0;36msolve\u001B[1;34m(a, b)\u001B[0m\n\u001B[0;32m    384\u001B[0m signature \u001B[38;5;241m=\u001B[39m \u001B[38;5;124m'\u001B[39m\u001B[38;5;124mDD->D\u001B[39m\u001B[38;5;124m'\u001B[39m \u001B[38;5;28;01mif\u001B[39;00m isComplexType(t) \u001B[38;5;28;01melse\u001B[39;00m \u001B[38;5;124m'\u001B[39m\u001B[38;5;124mdd->d\u001B[39m\u001B[38;5;124m'\u001B[39m\n\u001B[0;32m    385\u001B[0m extobj \u001B[38;5;241m=\u001B[39m get_linalg_error_extobj(_raise_linalgerror_singular)\n\u001B[1;32m--> 386\u001B[0m r \u001B[38;5;241m=\u001B[39m \u001B[43mgufunc\u001B[49m\u001B[43m(\u001B[49m\u001B[43ma\u001B[49m\u001B[43m,\u001B[49m\u001B[43m \u001B[49m\u001B[43mb\u001B[49m\u001B[43m,\u001B[49m\u001B[43m \u001B[49m\u001B[43msignature\u001B[49m\u001B[38;5;241;43m=\u001B[39;49m\u001B[43msignature\u001B[49m\u001B[43m,\u001B[49m\u001B[43m \u001B[49m\u001B[43mextobj\u001B[49m\u001B[38;5;241;43m=\u001B[39;49m\u001B[43mextobj\u001B[49m\u001B[43m)\u001B[49m\n\u001B[0;32m    388\u001B[0m \u001B[38;5;28;01mreturn\u001B[39;00m wrap(r\u001B[38;5;241m.\u001B[39mastype(result_t, copy\u001B[38;5;241m=\u001B[39m\u001B[38;5;28;01mFalse\u001B[39;00m))\n",
      "File \u001B[1;32m~\\github\\tensegrity\\venv\\Lib\\site-packages\\numpy\\linalg\\linalg.py:89\u001B[0m, in \u001B[0;36m_raise_linalgerror_singular\u001B[1;34m(err, flag)\u001B[0m\n\u001B[0;32m     88\u001B[0m \u001B[38;5;28;01mdef\u001B[39;00m \u001B[38;5;21m_raise_linalgerror_singular\u001B[39m(err, flag):\n\u001B[1;32m---> 89\u001B[0m     \u001B[38;5;28;01mraise\u001B[39;00m LinAlgError(\u001B[38;5;124m\"\u001B[39m\u001B[38;5;124mSingular matrix\u001B[39m\u001B[38;5;124m\"\u001B[39m)\n",
      "\u001B[1;31mLinAlgError\u001B[0m: Singular matrix"
     ]
    }
   ],
   "source": [
    "stiffness.displacements(f)"
   ]
  },
  {
   "cell_type": "markdown",
   "metadata": {},
   "source": [
    "The failure of the above procedure is due to the singularity of the current stiffness model. This can be visualized by calculating the model's eigenvalues and eigenvectors:"
   ]
  },
  {
   "cell_type": "code",
   "execution_count": 19,
   "metadata": {},
   "outputs": [],
   "source": [
    "d, v = stiffness.eigs()"
   ]
  },
  {
   "cell_type": "markdown",
   "metadata": {},
   "source": [
    "In this case, because there are not enough constraints in the possible nodal displacements of the structure, we encounter various eigenvalues which are numerically close to zero:"
   ]
  },
  {
   "cell_type": "code",
   "execution_count": 20,
   "metadata": {},
   "outputs": [
    {
     "data": {
      "text/plain": [
       "array([-1.01162400e-09, -2.35710893e-10,  2.33835853e-11,  3.26227067e-10,\n",
       "        4.50660242e-09,  8.12724141e-09,  3.99999999e+00,  3.14159245e+07,\n",
       "        3.14159285e+07,  3.14159285e+07,  8.88576608e+07,  1.20273585e+08])"
      ]
     },
     "execution_count": 20,
     "metadata": {},
     "output_type": "execute_result"
    }
   ],
   "source": [
    "d"
   ]
  },
  {
   "cell_type": "markdown",
   "metadata": {},
   "source": [
    "Six of these are the so-called \"rigid body modes\", associated to the three rigid translations and three rigid rotations of the structure. They can be \"removed\" by applying certain constraints to the set of allowed displacements. Enforcement of these constraints can be done by passing the parameter ``apply_rigid_body_constraint=True`` when calculating the stiffness model:"
   ]
  },
  {
   "cell_type": "code",
   "execution_count": 21,
   "metadata": {},
   "outputs": [],
   "source": [
    "stiffness, _, _ = s.stiffness(storage='dense', apply_rigid_body_constraint=True)"
   ]
  },
  {
   "cell_type": "markdown",
   "metadata": {},
   "source": [
    "To see that the six near zero eigenvalues of the stiffness matrix have been removed by the rigid body constraints\n",
    "recalculate:"
   ]
  },
  {
   "cell_type": "code",
   "execution_count": 22,
   "metadata": {},
   "outputs": [
    {
     "data": {
      "text/plain": [
       "array([3.99999999e+00, 3.14159245e+07, 3.14159285e+07, 3.14159285e+07,\n",
       "       8.88576608e+07, 1.20273585e+08])"
      ]
     },
     "execution_count": 22,
     "metadata": {},
     "output_type": "execute_result"
    }
   ],
   "source": [
    "d, v = stiffness.eigs()\n",
    "d"
   ]
  },
  {
   "cell_type": "markdown",
   "metadata": {},
   "source": [
    "Interestingly, in this case, there still remains one eigenvalue that is much smaller than the remaining ones. We will deal with this eigenvalue later.\n",
    "\n",
    "For now, even though the smallest eigenvalue is small, the resulting stiffness matrix is not singular, and therefore suitable for computing displacements. This time:"
   ]
  },
  {
   "cell_type": "code",
   "execution_count": 23,
   "metadata": {},
   "outputs": [
    {
     "data": {
      "text/plain": [
       "array([[-2.20468248e-09, -2.20468248e-09,  2.20468248e-09,\n",
       "         2.20468248e-09],\n",
       "       [ 1.77419161e-09, -1.77419161e-09, -5.75306493e-09,\n",
       "         5.75306493e-09],\n",
       "       [ 4.02657501e-18, -4.02657481e-18,  4.02657460e-18,\n",
       "        -4.02657419e-18]])"
      ]
     },
     "execution_count": 23,
     "metadata": {},
     "output_type": "execute_result"
    }
   ],
   "source": [
    "x = stiffness.displacements(f)\n",
    "x"
   ]
  },
  {
   "cell_type": "markdown",
   "metadata": {},
   "source": [
    "successfully calculates the resulting approximate displacements, which can be visualized, after much enlargement, along with the applied forces in the figure"
   ]
  },
  {
   "cell_type": "code",
   "execution_count": 24,
   "metadata": {},
   "outputs": [
    {
     "data": {
      "application/vnd.jupyter.widget-view+json": {
       "model_id": "d46535617dea474c87eb8a6160f4195b",
       "version_major": 2,
       "version_minor": 0
      },
      "image/png": "[encoded data removed]",
      "text/html": [
       "\n",
       "            <div style=\"display: inline-block;\">\n",
       "                <div class=\"jupyter-widgets widget-label\" style=\"text-align: center;\">\n",
       "                    Figure\n",
       "                </div>\n",
       "                <img src='data:image/png;base64,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' width=640.0/>\n",
       "            </div>\n",
       "        "
      ],
      "text/plain": [
       "Canvas(toolbar=Toolbar(toolitems=[('Home', 'Reset original view', 'home', 'home'), ('Back', 'Back to previous …"
      ]
     },
     "metadata": {},
     "output_type": "display_data"
    }
   ],
   "source": [
    "plotter = MatplotlibPlotter()\n",
    "plotter.plot(s)\n",
    "_, ax = plotter.get_handles()\n",
    "plotter.plot_arrows(s.nodes, f, color='g')\n",
    "plotter.plot_arrows(s.nodes, 5e7*x, color='y')\n",
    "ax.view_init(90,-90)\n",
    "ax.axis('off')\n",
    "ax.axis('equal')\n",
    "plt.show()"
   ]
  },
  {
   "cell_type": "markdown",
   "metadata": {},
   "source": [
    "The forces are in green and the vectors indicating the resulting displacement are in yellow."
   ]
  },
  {
   "cell_type": "markdown",
   "metadata": {},
   "source": [
    "Back to the small eigenvalue, which is sometimes associated with what is called a *soft mode*, results from the fact that the structure is planar, and its ball joints offer little resistance to out-of-plane forces. Indeed, the eigenvector associated with the eigenvalue is:"
   ]
  },
  {
   "cell_type": "code",
   "execution_count": 25,
   "metadata": {},
   "outputs": [
    {
     "data": {
      "text/plain": [
       "array([[ 2.27657232e-16,  6.97069602e-17, -6.05872973e-17,\n",
       "        -1.78599980e-16],\n",
       "       [-1.50805456e-16,  4.09366810e-18,  1.79720993e-17,\n",
       "         5.96054627e-17],\n",
       "       [-5.00000000e-01,  5.00000000e-01, -5.00000000e-01,\n",
       "         5.00000000e-01]])"
      ]
     },
     "execution_count": 25,
     "metadata": {},
     "output_type": "execute_result"
    }
   ],
   "source": [
    "v[:,0].reshape((3, 4), order='F')"
   ]
  },
  {
   "cell_type": "code",
   "execution_count": 26,
   "metadata": {},
   "outputs": [
    {
     "data": {
      "application/vnd.jupyter.widget-view+json": {
       "model_id": "49adcccc15a54e389bdee8445543c7f4",
       "version_major": 2,
       "version_minor": 0
      },
      "image/png": "[encoded data removed]",
      "text/html": [
       "\n",
       "            <div style=\"display: inline-block;\">\n",
       "                <div class=\"jupyter-widgets widget-label\" style=\"text-align: center;\">\n",
       "                    Figure\n",
       "                </div>\n",
       "                <img src='data:image/png;base64,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' width=640.0/>\n",
       "            </div>\n",
       "        "
      ],
      "text/plain": [
       "Canvas(toolbar=Toolbar(toolitems=[('Home', 'Reset original view', 'home', 'home'), ('Back', 'Back to previous …"
      ]
     },
     "metadata": {},
     "output_type": "display_data"
    }
   ],
   "source": [
    "plotter = MatplotlibPlotter()\n",
    "plotter.plot(s)\n",
    "_, ax = plotter.get_handles()\n",
    "plotter.plot_arrows(s.nodes, 0.2*v[:,0].reshape((3, 4), order='F'), color='y')\n",
    "ax.view_init(30,-60)\n",
    "ax.axis('off')\n",
    "ax.axis('equal')\n",
    "plt.show()"
   ]
  },
  {
   "cell_type": "markdown",
   "metadata": {},
   "source": [
    "which constitutes a pair of \"couples\" in the out-of-plane z-direction.\n",
    "\n",
    "Constraining the node displacements to be planar \"eliminates\" such mode, as in:"
   ]
  },
  {
   "cell_type": "code",
   "execution_count": 27,
   "metadata": {},
   "outputs": [],
   "source": [
    "stiffness, _, _ = s.stiffness(storage='dense', apply_rigid_body_constraint=True, apply_planar_constraint=True)"
   ]
  },
  {
   "cell_type": "markdown",
   "metadata": {},
   "source": [
    "resulting in a structure in which"
   ]
  },
  {
   "cell_type": "code",
   "execution_count": 28,
   "metadata": {},
   "outputs": [
    {
     "data": {
      "text/plain": [
       "array([3.14159245e+07, 3.14159285e+07, 3.14159285e+07, 8.88576608e+07,\n",
       "       1.20273585e+08])"
      ]
     },
     "execution_count": 28,
     "metadata": {},
     "output_type": "execute_result"
    }
   ],
   "source": [
    "d, v = stiffness.eigs()\n",
    "d"
   ]
  },
  {
   "cell_type": "markdown",
   "metadata": {},
   "source": [
    "indicating that there are no soft modes.\n",
    "\n",
    "Of course one should expect little impact in the displacements if the forces do not have out-of-plane components and"
   ]
  },
  {
   "cell_type": "code",
   "execution_count": 29,
   "metadata": {},
   "outputs": [
    {
     "data": {
      "text/plain": [
       "array([[-2.20468248e-09, -2.20468248e-09,  2.20468248e-09,\n",
       "         2.20468248e-09],\n",
       "       [ 1.77419161e-09, -1.77419161e-09, -5.75306493e-09,\n",
       "         5.75306493e-09],\n",
       "       [ 1.14622427e-25, -2.03076170e-25, -1.79648634e-25,\n",
       "         4.18725948e-25]])"
      ]
     },
     "execution_count": 29,
     "metadata": {},
     "output_type": "execute_result"
    }
   ],
   "source": [
    "x = stiffness.displacements(f)\n",
    "x"
   ]
  },
  {
   "cell_type": "markdown",
   "metadata": {},
   "source": [
    "indeed returns displacements that are very similar to the ones calculated before because the external forces do not have any non-zero z-components."
   ]
  },
  {
   "cell_type": "markdown",
   "metadata": {},
   "source": [
    "## Node constraints\n",
    "\n",
    "The above structures were *free* in space. A structure can be attached to point in a reference frame by adding constraints to nodes.\n",
    "\n",
    "Start by rebuilding the example structure used above:"
   ]
  },
  {
   "cell_type": "code",
   "execution_count": 30,
   "metadata": {},
   "outputs": [],
   "source": [
    "from tnsgrt.structure import Structure\n",
    "s = Structure(nodes, members, number_of_strings=4)"
   ]
  },
  {
   "cell_type": "markdown",
   "metadata": {},
   "source": [
    "### Fixed node constraints\n",
    "\n",
    "The simplest type of node constraint is a *fixed* node constraint. Fixed node constraints mean that there can be no displacement of the node. It can be added to a node by setting the property ``'constraint'`` to a `tnsgrt.stiffness.NodeConstraint`. For example:"
   ]
  },
  {
   "cell_type": "code",
   "execution_count": 31,
   "metadata": {},
   "outputs": [],
   "source": [
    "from tnsgrt.stiffness import NodeConstraint\n",
    "s.set_node_properties([0, 3], 'constraint', NodeConstraint())"
   ]
  },
  {
   "cell_type": "markdown",
   "metadata": {},
   "source": [
    "states that nodes 0 and 3 are to be considered *fixed*. Fixed node constraints are represented by spheres when you plot the structure:"
   ]
  },
  {
   "cell_type": "code",
   "execution_count": 35,
   "metadata": {},
   "outputs": [
    {
     "data": {
      "application/vnd.jupyter.widget-view+json": {
       "model_id": "7ca9703884e943dfb57ea977de16dba1",
       "version_major": 2,
       "version_minor": 0
      },
      "image/png": "[encoded data removed]",
      "text/html": [
       "\n",
       "            <div style=\"display: inline-block;\">\n",
       "                <div class=\"jupyter-widgets widget-label\" style=\"text-align: center;\">\n",
       "                    Figure\n",
       "                </div>\n",
       "                <img src='data:image/png;base64,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' width=640.0/>\n",
       "            </div>\n",
       "        "
      ],
      "text/plain": [
       "Canvas(toolbar=Toolbar(toolitems=[('Home', 'Reset original view', 'home', 'home'), ('Back', 'Back to previous …"
      ]
     },
     "metadata": {},
     "output_type": "display_data"
    }
   ],
   "source": [
    "plotter = MatplotlibPlotter()\n",
    "plotter.plot(s)\n",
    "_, ax = plotter.get_handles()\n",
    "ax.view_init(90,-90,0)\n",
    "ax.axis('off')\n",
    "ax.axis('equal')\n",
    "plt.show()"
   ]
  },
  {
   "cell_type": "markdown",
   "metadata": {},
   "source": [
    "Equilibrium in a structure with constraints is often different than equilibrium in a free structure. For example:"
   ]
  },
  {
   "cell_type": "code",
   "execution_count": 36,
   "metadata": {},
   "outputs": [],
   "source": [
    "reactions = s.equilibrium()"
   ]
  },
  {
   "cell_type": "markdown",
   "metadata": {},
   "source": [
    "produces the force coefficients"
   ]
  },
  {
   "cell_type": "code",
   "execution_count": 37,
   "metadata": {},
   "outputs": [
    {
     "data": {
      "text/plain": [
       "0    1.000000e+00\n",
       "1    1.000000e+00\n",
       "2    1.000000e+00\n",
       "3    1.062277e-10\n",
       "4   -1.000000e+00\n",
       "5   -1.000000e+00\n",
       "Name: lambda_, dtype: float64"
      ]
     },
     "execution_count": 37,
     "metadata": {},
     "output_type": "execute_result"
    }
   ],
   "source": [
    "s.member_properties['lambda_']"
   ]
  },
  {
   "cell_type": "markdown",
   "metadata": {},
   "source": [
    "and non-zero reaction forces at nodes 0 and 3"
   ]
  },
  {
   "cell_type": "code",
   "execution_count": 38,
   "metadata": {},
   "outputs": [
    {
     "data": {
      "text/plain": [
       "array([[ 1.00000000e+00, -1.00000000e+00],\n",
       "       [ 2.04629879e-15,  2.04105833e-15],\n",
       "       [ 0.00000000e+00,  0.00000000e+00]])"
      ]
     },
     "execution_count": 38,
     "metadata": {},
     "output_type": "execute_result"
    }
   ],
   "source": [
    "reactions[:, [0, 3]]"
   ]
  },
  {
   "cell_type": "markdown",
   "metadata": {},
   "source": [
    "The reaction forces replace the bottom string force, which now has a zero force coefficient. \n",
    "\n",
    "NOTE: this behavior is the result of the equilibrium calculation that is set to minimize the sum of the force coefficients in all members.\n",
    "\n",
    "The internal member force vectors can be calculated as"
   ]
  },
  {
   "cell_type": "code",
   "execution_count": 39,
   "metadata": {},
   "outputs": [],
   "source": [
    "f_member = s.member_properties['lambda_'].values * s.get_member_vectors()"
   ]
  },
  {
   "cell_type": "markdown",
   "metadata": {},
   "source": [
    "and plotted along with the structure and the reactions as in the next figure:"
   ]
  },
  {
   "cell_type": "code",
   "execution_count": 41,
   "metadata": {},
   "outputs": [
    {
     "data": {
      "application/vnd.jupyter.widget-view+json": {
       "model_id": "ef131b1dc7bc4466b43ad860d45db2d5",
       "version_major": 2,
       "version_minor": 0
      },
      "image/png": "[encoded data removed]",
      "text/html": [
       "\n",
       "            <div style=\"display: inline-block;\">\n",
       "                <div class=\"jupyter-widgets widget-label\" style=\"text-align: center;\">\n",
       "                    Figure\n",
       "                </div>\n",
       "                <img src='data:image/png;base64,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' width=640.0/>\n",
       "            </div>\n",
       "        "
      ],
      "text/plain": [
       "Canvas(toolbar=Toolbar(toolitems=[('Home', 'Reset original view', 'home', 'home'), ('Back', 'Back to previous …"
      ]
     },
     "metadata": {},
     "output_type": "display_data"
    }
   ],
   "source": [
    "plotter = MatplotlibPlotter()\n",
    "plotter.plot(s)\n",
    "_, ax = plotter.get_handles()\n",
    "plotter.plot_arrows(s.nodes[:,s.members[0,:]], .2*f_member, color='g')\n",
    "plotter.plot_arrows(s.nodes[:,s.members[1,:]], -.2*f_member, color='g')\n",
    "plotter.plot_arrows(s.nodes, .2*reactions, color='y')\n",
    "ax.view_init(90,-90,0)\n",
    "ax.axis('off')\n",
    "ax.axis('equal')\n",
    "plt.show()"
   ]
  },
  {
   "cell_type": "markdown",
   "metadata": {},
   "source": [
    "But the real role of constraints is in the presence of external forces. For example, consider the set of forces:"
   ]
  },
  {
   "cell_type": "code",
   "execution_count": 42,
   "metadata": {},
   "outputs": [
    {
     "data": {
      "text/plain": [
       "array([[ 0.,  0.,  0.,  0.],\n",
       "       [ 0., -1., -1.,  0.],\n",
       "       [ 0.,  0.,  0.,  0.]])"
      ]
     },
     "execution_count": 42,
     "metadata": {},
     "output_type": "execute_result"
    }
   ],
   "source": [
    "f = np.zeros((3, 4))\n",
    "fz = np.array([[0, 1, 0]]).transpose()\n",
    "f[:, [1,2]] = -fz\n",
    "f"
   ]
  },
  {
   "cell_type": "markdown",
   "metadata": {},
   "source": [
    "that represent a compressive load applied at the top nodes 1 and 2. The structure with constraints can be made in equilibrium with such force:"
   ]
  },
  {
   "cell_type": "code",
   "execution_count": 43,
   "metadata": {},
   "outputs": [],
   "source": [
    "reactions = s.equilibrium(f)"
   ]
  },
  {
   "cell_type": "markdown",
   "metadata": {
    "scrolled": true
   },
   "source": [
    "which produces the force coefficients"
   ]
  },
  {
   "cell_type": "code",
   "execution_count": 44,
   "metadata": {
    "scrolled": true
   },
   "outputs": [
    {
     "data": {
      "text/plain": [
       "0   -1.780101e-09\n",
       "1    1.000000e+00\n",
       "2   -1.780101e-09\n",
       "3    1.777714e-10\n",
       "4   -1.000000e+00\n",
       "5   -1.000000e+00\n",
       "Name: lambda_, dtype: float64"
      ]
     },
     "execution_count": 44,
     "metadata": {},
     "output_type": "execute_result"
    }
   ],
   "source": [
    "s.member_properties['lambda_']"
   ]
  },
  {
   "cell_type": "markdown",
   "metadata": {},
   "source": [
    "and the reactions at the nodes 0 and 3:"
   ]
  },
  {
   "cell_type": "code",
   "execution_count": 45,
   "metadata": {},
   "outputs": [
    {
     "data": {
      "text/plain": [
       "array([[ 1., -1.],\n",
       "       [ 1.,  1.],\n",
       "       [ 0.,  0.]])"
      ]
     },
     "execution_count": 45,
     "metadata": {},
     "output_type": "execute_result"
    }
   ],
   "source": [
    "reactions[:, [0, 3]]"
   ]
  },
  {
   "cell_type": "markdown",
   "metadata": {},
   "source": [
    "which are plotted along with the structure and the reactions as in the next figure:"
   ]
  },
  {
   "cell_type": "code",
   "execution_count": 47,
   "metadata": {},
   "outputs": [
    {
     "data": {
      "application/vnd.jupyter.widget-view+json": {
       "model_id": "ac8f1a5eaeac4856a454dbad2d4636a6",
       "version_major": 2,
       "version_minor": 0
      },
      "image/png": "[encoded data removed]",
      "text/html": [
       "\n",
       "            <div style=\"display: inline-block;\">\n",
       "                <div class=\"jupyter-widgets widget-label\" style=\"text-align: center;\">\n",
       "                    Figure\n",
       "                </div>\n",
       "                <img src='data:image/png;base64,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' width=640.0/>\n",
       "            </div>\n",
       "        "
      ],
      "text/plain": [
       "Canvas(toolbar=Toolbar(toolitems=[('Home', 'Reset original view', 'home', 'home'), ('Back', 'Back to previous …"
      ]
     },
     "metadata": {},
     "output_type": "display_data"
    }
   ],
   "source": [
    "f_member = s.member_properties['lambda_'].values * s.get_member_vectors()\n",
    "\n",
    "plotter = MatplotlibPlotter()\n",
    "plotter.plot(s)\n",
    "_, ax = plotter.get_handles()\n",
    "plotter.plot_arrows(s.nodes[:,s.members[0,:]], .2*f_member, color='g')\n",
    "plotter.plot_arrows(s.nodes[:,s.members[1,:]], -.2*f_member, color='g')\n",
    "plotter.plot_arrows(s.nodes, .2*reactions, color='y')\n",
    "plotter.plot_arrows(s.nodes, .2*f, color='b')\n",
    "ax.view_init(90,-90,0)\n",
    "ax.axis('off')\n",
    "ax.axis('equal')\n",
    "plt.show()"
   ]
  },
  {
   "cell_type": "markdown",
   "metadata": {},
   "source": [
    "In the presence of external forces, three strings now have zero force coefficients.\n",
    "\n",
    "## Node constraints with 2 degrees of freedom\n",
    "\n",
    "It is also possible to impose constraints while preserving certain degrees of freedom. For example:"
   ]
  },
  {
   "cell_type": "code",
   "execution_count": 48,
   "metadata": {},
   "outputs": [],
   "source": [
    "s.set_node_properties(3, 'constraint', NodeConstraint(constraint=np.array([[0, 1, 0]])))"
   ]
  },
  {
   "cell_type": "markdown",
   "metadata": {},
   "source": [
    "constrain the displacements of node 3 to lie in the plane orthogonal to the y-axis. Node 0 continues to have a fixed node constraint.\n",
    "\n",
    "When the structure is plotted, this constraint is represented by a small rectangle in the normal plane. The next figure is tilted a bit to show that."
   ]
  },
  {
   "cell_type": "code",
   "execution_count": 50,
   "metadata": {},
   "outputs": [
    {
     "data": {
      "application/vnd.jupyter.widget-view+json": {
       "model_id": "cc6c8e763fec42ea9355ee225c2be8ea",
       "version_major": 2,
       "version_minor": 0
      },
      "image/png": "[encoded data removed]",
      "text/html": [
       "\n",
       "            <div style=\"display: inline-block;\">\n",
       "                <div class=\"jupyter-widgets widget-label\" style=\"text-align: center;\">\n",
       "                    Figure\n",
       "                </div>\n",
       "                <img src='data:image/png;base64,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' width=640.0/>\n",
       "            </div>\n",
       "        "
      ],
      "text/plain": [
       "Canvas(toolbar=Toolbar(toolitems=[('Home', 'Reset original view', 'home', 'home'), ('Back', 'Back to previous …"
      ]
     },
     "metadata": {},
     "output_type": "display_data"
    }
   ],
   "source": [
    "plotter = MatplotlibPlotter()\n",
    "plotter.plot(s)\n",
    "_, ax = plotter.get_handles()\n",
    "ax.view_init(120,-90)\n",
    "ax.axis('off')\n",
    "ax.axis('equal')\n",
    "plt.show()"
   ]
  },
  {
   "cell_type": "markdown",
   "metadata": {},
   "source": [
    "Because the node is allowed to *slide* along that plane, equilibrium is not possible."
   ]
  },
  {
   "cell_type": "markdown",
   "metadata": {},
   "source": [
    "With that constraint in place it is possible to achieve equilibrium"
   ]
  },
  {
   "cell_type": "code",
   "execution_count": 51,
   "metadata": {},
   "outputs": [
    {
     "data": {
      "text/plain": [
       "0    1.0\n",
       "1    1.0\n",
       "2    1.0\n",
       "3    1.0\n",
       "4   -1.0\n",
       "5   -1.0\n",
       "Name: lambda_, dtype: float64"
      ]
     },
     "execution_count": 51,
     "metadata": {},
     "output_type": "execute_result"
    }
   ],
   "source": [
    "reactions = s.equilibrium()\n",
    "s.member_properties['lambda_']"
   ]
  },
  {
   "cell_type": "markdown",
   "metadata": {},
   "source": [
    "with the help of non-zero reaction forces at nodes 0 and 3"
   ]
  },
  {
   "cell_type": "code",
   "execution_count": 52,
   "metadata": {},
   "outputs": [
    {
     "data": {
      "text/plain": [
       "array([[ 3.98445293e-15,  0.00000000e+00],\n",
       "       [ 3.98445293e-15, -6.98457082e-18],\n",
       "       [ 0.00000000e+00,  0.00000000e+00]])"
      ]
     },
     "execution_count": 52,
     "metadata": {},
     "output_type": "execute_result"
    }
   ],
   "source": [
    "reactions[:, [0, 3]]"
   ]
  },
  {
   "cell_type": "code",
   "execution_count": 53,
   "metadata": {},
   "outputs": [
    {
     "data": {
      "text/plain": [
       "array([[ 0.,  0.,  0.,  0.],\n",
       "       [ 0., -1., -1.,  0.],\n",
       "       [ 0.,  0.,  0.,  0.]])"
      ]
     },
     "execution_count": 53,
     "metadata": {},
     "output_type": "execute_result"
    }
   ],
   "source": [
    "f = np.zeros((3, 4))\n",
    "fz = np.array([[0, 1, 0]]).transpose()\n",
    "f[:, [1,2]] = -fz\n",
    "f"
   ]
  },
  {
   "cell_type": "code",
   "execution_count": 54,
   "metadata": {
    "scrolled": true
   },
   "outputs": [
    {
     "data": {
      "text/plain": [
       "0   -4.454949e-11\n",
       "1    1.000000e+00\n",
       "2   -4.454694e-11\n",
       "3    1.000000e+00\n",
       "4   -1.000000e+00\n",
       "5   -1.000000e+00\n",
       "Name: lambda_, dtype: float64"
      ]
     },
     "execution_count": 54,
     "metadata": {},
     "output_type": "execute_result"
    }
   ],
   "source": [
    "reactions = s.equilibrium(f)\n",
    "s.member_properties['lambda_']"
   ]
  },
  {
   "cell_type": "code",
   "execution_count": 55,
   "metadata": {},
   "outputs": [
    {
     "data": {
      "text/plain": [
       "array([[6.14180213e-15, 0.00000000e+00],\n",
       "       [1.00000000e+00, 1.00000000e+00],\n",
       "       [0.00000000e+00, 0.00000000e+00]])"
      ]
     },
     "execution_count": 55,
     "metadata": {},
     "output_type": "execute_result"
    }
   ],
   "source": [
    "reactions[:, [0,3]]"
   ]
  },
  {
   "cell_type": "code",
   "execution_count": 56,
   "metadata": {},
   "outputs": [],
   "source": [
    "f_member = s.member_properties['lambda_'].values * s.get_member_vectors()"
   ]
  },
  {
   "cell_type": "code",
   "execution_count": 58,
   "metadata": {},
   "outputs": [
    {
     "data": {
      "application/vnd.jupyter.widget-view+json": {
       "model_id": "bb18697fbeb4433ebb421489315f98b1",
       "version_major": 2,
       "version_minor": 0
      },
      "image/png": "[encoded data removed]",
      "text/html": [
       "\n",
       "            <div style=\"display: inline-block;\">\n",
       "                <div class=\"jupyter-widgets widget-label\" style=\"text-align: center;\">\n",
       "                    Figure\n",
       "                </div>\n",
       "                <img src='data:image/png;base64,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' width=640.0/>\n",
       "            </div>\n",
       "        "
      ],
      "text/plain": [
       "Canvas(toolbar=Toolbar(toolitems=[('Home', 'Reset original view', 'home', 'home'), ('Back', 'Back to previous …"
      ]
     },
     "metadata": {},
     "output_type": "display_data"
    }
   ],
   "source": [
    "plotter = MatplotlibPlotter()\n",
    "plotter.plot(s)\n",
    "_, ax = plotter.get_handles()\n",
    "plotter.plot_arrows(s.nodes[:,s.members[0,:]], .2*f_member, color='g')\n",
    "plotter.plot_arrows(s.nodes[:,s.members[1,:]], -.2*f_member, color='g')\n",
    "plotter.plot_arrows(s.nodes, .2*reactions, color='y')\n",
    "plotter.plot_arrows(s.nodes, .2*f, color='b')\n",
    "ax.view_init(120,-90,0)\n",
    "ax.axis('off')\n",
    "ax.axis('equal')\n",
    "plt.show()"
   ]
  },
  {
   "cell_type": "markdown",
   "metadata": {},
   "source": [
    "By constraining the motion along the x-axis instead"
   ]
  },
  {
   "cell_type": "markdown",
   "metadata": {},
   "source": [
    "## Node constraints with one degree of freedom\n",
    "\n",
    "Finally, it is also possible to constrain motion along a line, as in"
   ]
  },
  {
   "cell_type": "code",
   "execution_count": 59,
   "metadata": {},
   "outputs": [],
   "source": [
    "s.set_node_properties(3, 'constraint', NodeConstraint(displacement=np.array([[1, 0, 0]]).transpose()))"
   ]
  },
  {
   "cell_type": "markdown",
   "metadata": {},
   "source": [
    "which is illustrated in the next figure by the line at node 3:"
   ]
  },
  {
   "cell_type": "code",
   "execution_count": 70,
   "metadata": {},
   "outputs": [
    {
     "data": {
      "application/vnd.jupyter.widget-view+json": {
       "model_id": "640656eecc6c477398c229fc77c20348",
       "version_major": 2,
       "version_minor": 0
      },
      "image/png": "[encoded data removed]",
      "text/html": [
       "\n",
       "            <div style=\"display: inline-block;\">\n",
       "                <div class=\"jupyter-widgets widget-label\" style=\"text-align: center;\">\n",
       "                    Figure\n",
       "                </div>\n",
       "                <img src='data:image/png;base64,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' width=640.0/>\n",
       "            </div>\n",
       "        "
      ],
      "text/plain": [
       "Canvas(toolbar=Toolbar(toolitems=[('Home', 'Reset original view', 'home', 'home'), ('Back', 'Back to previous …"
      ]
     },
     "metadata": {},
     "output_type": "display_data"
    }
   ],
   "source": [
    "plotter = MatplotlibPlotter()\n",
    "plotter.plot(s)\n",
    "_, ax = plotter.get_handles()\n",
    "ax.view_init(90,-90)\n",
    "ax.axis('off')\n",
    "ax.axis('equal')\n",
    "plt.show()"
   ]
  },
  {
   "cell_type": "markdown",
   "metadata": {},
   "source": [
    "Equilibrium is the same as in the case of the planar constraint."
   ]
  },
  {
   "cell_type": "code",
   "execution_count": null,
   "metadata": {},
   "outputs": [],
   "source": []
  }
 ],
 "metadata": {
  "kernelspec": {
   "display_name": "Python 3 (ipykernel)",
   "language": "python",
   "name": "python3"
  },
  "language_info": {
   "codemirror_mode": {
    "name": "ipython",
    "version": 3
   },
   "file_extension": ".py",
   "mimetype": "text/x-python",
   "name": "python",
   "nbconvert_exporter": "python",
   "pygments_lexer": "ipython3",
   "version": "3.11.3"
  }
 },
 "nbformat": 4,
 "nbformat_minor": 1
}
