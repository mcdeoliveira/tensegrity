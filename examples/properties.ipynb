{
 "cells": [
  {
   "cell_type": "markdown",
   "metadata": {},
   "source": [
    "# The structure of Structures"
   ]
  },
  {
   "cell_type": "code",
   "execution_count": 1,
   "metadata": {},
   "outputs": [],
   "source": [
    "# add path if package not installed\n",
    "import sys\n",
    "sys.path.append('../src')"
   ]
  },
  {
   "cell_type": "markdown",
   "metadata": {},
   "source": [
    "Start by building the following simple planar structure"
   ]
  },
  {
   "cell_type": "code",
   "execution_count": 2,
   "metadata": {},
   "outputs": [],
   "source": [
    "import numpy as np\n",
    "from tnsgrt.structure import Structure\n",
    "\n",
    "nodes = np.array([[0,0,0], [0,1,0], [2,1,0], [2,0,0]]).transpose()\n",
    "members = np.array([[0,1], [1,2], [2,3], [3,0], [0,2], [1,3]]).transpose()\n",
    "s = Structure(nodes, members, number_of_strings=4)"
   ]
  },
  {
   "cell_type": "code",
   "execution_count": 3,
   "metadata": {},
   "outputs": [
    {
     "data": {
      "text/plain": "Canvas(toolbar=Toolbar(toolitems=[('Home', 'Reset original view', 'home', 'home'), ('Back', 'Back to previous …",
      "image/png": "[encoded data removed]",
      "text/html": "\n            <div style=\"display: inline-block;\">\n                <div class=\"jupyter-widgets widget-label\" style=\"text-align: center;\">\n                    Figure\n                </div>\n                <img src='data:image/png;base64,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' width=640.0/>\n            </div>\n        ",
      "application/vnd.jupyter.widget-view+json": {
       "version_major": 2,
       "version_minor": 0,
       "model_id": "3bc730fc6ee749128931889087fac023"
      }
     },
     "metadata": {},
     "output_type": "display_data"
    }
   ],
   "source": [
    "from matplotlib import pyplot as plt\n",
    "from tnsgrt.plotter.matplotlib import MatplotlibPlotter\n",
    "%matplotlib widget\n",
    "\n",
    "plotter = MatplotlibPlotter()\n",
    "plotter.plot(s)\n",
    "fig, ax = plotter.get_handles()\n",
    "ax.view_init(90,-90)\n",
    "ax.axis('equal')\n",
    "ax.axis('off')\n",
    "plt.show()"
   ]
  },
  {
   "cell_type": "markdown",
   "metadata": {},
   "source": [
    "## Accessing Structure data\n",
    "\n",
    "Quite often, it is useful to view and modify the data stored in a Structure. The following\n",
    "examples show several ways of doing that.\n",
    "\n",
    "### Nodes and members\n",
    "\n",
    "A string representation of a Structure displays its number of nodes, number of bars, and number of strings."
   ]
  },
  {
   "cell_type": "code",
   "execution_count": 4,
   "metadata": {},
   "outputs": [
    {
     "name": "stdout",
     "output_type": "stream",
     "text": [
      "Structure with 4 nodes, 2 bars and 4 strings\n"
     ]
    }
   ],
   "source": [
    "print(s)"
   ]
  },
  {
   "cell_type": "markdown",
   "metadata": {},
   "source": [
    "A Structure has as attributes `nodes`"
   ]
  },
  {
   "cell_type": "code",
   "execution_count": 5,
   "metadata": {},
   "outputs": [
    {
     "data": {
      "text/plain": "array([[0., 0., 2., 2.],\n       [0., 1., 1., 0.],\n       [0., 0., 0., 0.]])"
     },
     "execution_count": 5,
     "metadata": {},
     "output_type": "execute_result"
    }
   ],
   "source": [
    "s.nodes"
   ]
  },
  {
   "cell_type": "markdown",
   "metadata": {},
   "source": [
    "which is a 3 x n numpy array storing the Structure's nodes in its columns and `members`"
   ]
  },
  {
   "cell_type": "code",
   "execution_count": 6,
   "metadata": {},
   "outputs": [
    {
     "data": {
      "text/plain": "array([[0, 1, 2, 3, 0, 1],\n       [1, 2, 3, 0, 2, 3]], dtype=int64)"
     },
     "execution_count": 6,
     "metadata": {},
     "output_type": "execute_result"
    }
   ],
   "source": [
    "s.members"
   ]
  },
  {
   "cell_type": "markdown",
   "metadata": {},
   "source": [
    "which is a 2 x m numpy array storing the Structure's members. Each column of `member` stores the indices of the nodes to which the ends of a bar or of a string is connected to.\n",
    "\n",
    "### Properties\n",
    "\n",
    "Node and member properties are stored as pandas' Dataframes. In this example"
   ]
  },
  {
   "cell_type": "code",
   "execution_count": 7,
   "metadata": {},
   "outputs": [
    {
     "data": {
      "text/plain": "   radius  visible constraint          facecolor          edgecolor\n0   0.002     True       None  (0, 0.447, 0.741)  (0, 0.447, 0.741)\n1   0.002     True       None  (0, 0.447, 0.741)  (0, 0.447, 0.741)\n2   0.002     True       None  (0, 0.447, 0.741)  (0, 0.447, 0.741)\n3   0.002     True       None  (0, 0.447, 0.741)  (0, 0.447, 0.741)",
      "text/html": "<div>\n<style scoped>\n    .dataframe tbody tr th:only-of-type {\n        vertical-align: middle;\n    }\n\n    .dataframe tbody tr th {\n        vertical-align: top;\n    }\n\n    .dataframe thead th {\n        text-align: right;\n    }\n</style>\n<table border=\"1\" class=\"dataframe\">\n  <thead>\n    <tr style=\"text-align: right;\">\n      <th></th>\n      <th>radius</th>\n      <th>visible</th>\n      <th>constraint</th>\n      <th>facecolor</th>\n      <th>edgecolor</th>\n    </tr>\n  </thead>\n  <tbody>\n    <tr>\n      <th>0</th>\n      <td>0.002</td>\n      <td>True</td>\n      <td>None</td>\n      <td>(0, 0.447, 0.741)</td>\n      <td>(0, 0.447, 0.741)</td>\n    </tr>\n    <tr>\n      <th>1</th>\n      <td>0.002</td>\n      <td>True</td>\n      <td>None</td>\n      <td>(0, 0.447, 0.741)</td>\n      <td>(0, 0.447, 0.741)</td>\n    </tr>\n    <tr>\n      <th>2</th>\n      <td>0.002</td>\n      <td>True</td>\n      <td>None</td>\n      <td>(0, 0.447, 0.741)</td>\n      <td>(0, 0.447, 0.741)</td>\n    </tr>\n    <tr>\n      <th>3</th>\n      <td>0.002</td>\n      <td>True</td>\n      <td>None</td>\n      <td>(0, 0.447, 0.741)</td>\n      <td>(0, 0.447, 0.741)</td>\n    </tr>\n  </tbody>\n</table>\n</div>"
     },
     "execution_count": 7,
     "metadata": {},
     "output_type": "execute_result"
    }
   ],
   "source": [
    "s.node_properties"
   ]
  },
  {
   "cell_type": "markdown",
   "metadata": {},
   "source": [
    "and"
   ]
  },
  {
   "cell_type": "code",
   "execution_count": 8,
   "metadata": {},
   "outputs": [
    {
     "data": {
      "text/plain": "   lambda_  force  stiffness  volume  radius  inner_radius  mass  rest_length   \n0      0.0    0.0        0.0     0.0   0.005           0.0   1.0          0.0  \\\n1      0.0    0.0        0.0     0.0   0.005           0.0   1.0          0.0   \n2      0.0    0.0        0.0     0.0   0.005           0.0   1.0          0.0   \n3      0.0    0.0        0.0     0.0   0.005           0.0   1.0          0.0   \n4      0.0    0.0        0.0     0.0   0.010           0.0   1.0          0.0   \n5      0.0    0.0        0.0     0.0   0.010           0.0   1.0          0.0   \n\n           yld  density       modulus  visible             facecolor   \n0  250000000.0   7850.0  2.000000e+11     True  (0.85, 0.325, 0.098)  \\\n1  250000000.0   7850.0  2.000000e+11     True  (0.85, 0.325, 0.098)   \n2  250000000.0   7850.0  2.000000e+11     True  (0.85, 0.325, 0.098)   \n3  250000000.0   7850.0  2.000000e+11     True  (0.85, 0.325, 0.098)   \n4  250000000.0   7850.0  2.000000e+11     True     (0, 0.447, 0.741)   \n5  250000000.0   7850.0  2.000000e+11     True     (0, 0.447, 0.741)   \n\n              edgecolor  linewidth linestyle  \n0  (0.85, 0.325, 0.098)          2         -  \n1  (0.85, 0.325, 0.098)          2         -  \n2  (0.85, 0.325, 0.098)          2         -  \n3  (0.85, 0.325, 0.098)          2         -  \n4     (0, 0.447, 0.741)          2         -  \n5     (0, 0.447, 0.741)          2         -  ",
      "text/html": "<div>\n<style scoped>\n    .dataframe tbody tr th:only-of-type {\n        vertical-align: middle;\n    }\n\n    .dataframe tbody tr th {\n        vertical-align: top;\n    }\n\n    .dataframe thead th {\n        text-align: right;\n    }\n</style>\n<table border=\"1\" class=\"dataframe\">\n  <thead>\n    <tr style=\"text-align: right;\">\n      <th></th>\n      <th>lambda_</th>\n      <th>force</th>\n      <th>stiffness</th>\n      <th>volume</th>\n      <th>radius</th>\n      <th>inner_radius</th>\n      <th>mass</th>\n      <th>rest_length</th>\n      <th>yld</th>\n      <th>density</th>\n      <th>modulus</th>\n      <th>visible</th>\n      <th>facecolor</th>\n      <th>edgecolor</th>\n      <th>linewidth</th>\n      <th>linestyle</th>\n    </tr>\n  </thead>\n  <tbody>\n    <tr>\n      <th>0</th>\n      <td>0.0</td>\n      <td>0.0</td>\n      <td>0.0</td>\n      <td>0.0</td>\n      <td>0.005</td>\n      <td>0.0</td>\n      <td>1.0</td>\n      <td>0.0</td>\n      <td>250000000.0</td>\n      <td>7850.0</td>\n      <td>2.000000e+11</td>\n      <td>True</td>\n      <td>(0.85, 0.325, 0.098)</td>\n      <td>(0.85, 0.325, 0.098)</td>\n      <td>2</td>\n      <td>-</td>\n    </tr>\n    <tr>\n      <th>1</th>\n      <td>0.0</td>\n      <td>0.0</td>\n      <td>0.0</td>\n      <td>0.0</td>\n      <td>0.005</td>\n      <td>0.0</td>\n      <td>1.0</td>\n      <td>0.0</td>\n      <td>250000000.0</td>\n      <td>7850.0</td>\n      <td>2.000000e+11</td>\n      <td>True</td>\n      <td>(0.85, 0.325, 0.098)</td>\n      <td>(0.85, 0.325, 0.098)</td>\n      <td>2</td>\n      <td>-</td>\n    </tr>\n    <tr>\n      <th>2</th>\n      <td>0.0</td>\n      <td>0.0</td>\n      <td>0.0</td>\n      <td>0.0</td>\n      <td>0.005</td>\n      <td>0.0</td>\n      <td>1.0</td>\n      <td>0.0</td>\n      <td>250000000.0</td>\n      <td>7850.0</td>\n      <td>2.000000e+11</td>\n      <td>True</td>\n      <td>(0.85, 0.325, 0.098)</td>\n      <td>(0.85, 0.325, 0.098)</td>\n      <td>2</td>\n      <td>-</td>\n    </tr>\n    <tr>\n      <th>3</th>\n      <td>0.0</td>\n      <td>0.0</td>\n      <td>0.0</td>\n      <td>0.0</td>\n      <td>0.005</td>\n      <td>0.0</td>\n      <td>1.0</td>\n      <td>0.0</td>\n      <td>250000000.0</td>\n      <td>7850.0</td>\n      <td>2.000000e+11</td>\n      <td>True</td>\n      <td>(0.85, 0.325, 0.098)</td>\n      <td>(0.85, 0.325, 0.098)</td>\n      <td>2</td>\n      <td>-</td>\n    </tr>\n    <tr>\n      <th>4</th>\n      <td>0.0</td>\n      <td>0.0</td>\n      <td>0.0</td>\n      <td>0.0</td>\n      <td>0.010</td>\n      <td>0.0</td>\n      <td>1.0</td>\n      <td>0.0</td>\n      <td>250000000.0</td>\n      <td>7850.0</td>\n      <td>2.000000e+11</td>\n      <td>True</td>\n      <td>(0, 0.447, 0.741)</td>\n      <td>(0, 0.447, 0.741)</td>\n      <td>2</td>\n      <td>-</td>\n    </tr>\n    <tr>\n      <th>5</th>\n      <td>0.0</td>\n      <td>0.0</td>\n      <td>0.0</td>\n      <td>0.0</td>\n      <td>0.010</td>\n      <td>0.0</td>\n      <td>1.0</td>\n      <td>0.0</td>\n      <td>250000000.0</td>\n      <td>7850.0</td>\n      <td>2.000000e+11</td>\n      <td>True</td>\n      <td>(0, 0.447, 0.741)</td>\n      <td>(0, 0.447, 0.741)</td>\n      <td>2</td>\n      <td>-</td>\n    </tr>\n  </tbody>\n</table>\n</div>"
     },
     "execution_count": 8,
     "metadata": {},
     "output_type": "execute_result"
    }
   ],
   "source": [
    "s.member_properties"
   ]
  },
  {
   "cell_type": "markdown",
   "metadata": {},
   "source": [
    "The DataFrames can be manipulated directly or one can use some convenience methods that will be discussed later.\n",
    "\n",
    "Properties are populated with default values taken from `Structure.NodeProperty`, `Structure.MemberProperty`, and the values in the dictionary"
   ]
  },
  {
   "cell_type": "code",
   "execution_count": 9,
   "metadata": {},
   "outputs": [
    {
     "data": {
      "text/plain": "{'bar': {'facecolor': (0, 0.447, 0.741), 'edgecolor': (0, 0.447, 0.741)},\n 'string': {'facecolor': (0.85, 0.325, 0.098),\n  'edgecolor': (0.85, 0.325, 0.098),\n  'radius': 0.005}}"
     },
     "execution_count": 9,
     "metadata": {},
     "output_type": "execute_result"
    }
   ],
   "source": [
    "Structure.member_defaults"
   ]
  },
  {
   "cell_type": "markdown",
   "metadata": {},
   "source": [
    "The keys in this dictionary are *tags*, which we discuss next.\n",
    "\n",
    "### Tags\n",
    "\n",
    "Nodes and members can be assigned and manipulated via *tags*. Nodes do not have any default tag,"
   ]
  },
  {
   "cell_type": "code",
   "execution_count": 10,
   "metadata": {},
   "outputs": [
    {
     "data": {
      "text/plain": "{}"
     },
     "execution_count": 10,
     "metadata": {},
     "output_type": "execute_result"
    }
   ],
   "source": [
    "s.node_tags"
   ]
  },
  {
   "cell_type": "markdown",
   "metadata": {},
   "source": [
    "but members are automatically assigned either `bar` or `string` as a tag."
   ]
  },
  {
   "cell_type": "code",
   "execution_count": 11,
   "metadata": {},
   "outputs": [
    {
     "data": {
      "text/plain": "{'bar': array([4, 5], dtype=int64), 'string': array([0, 1, 2, 3], dtype=int64)}"
     },
     "execution_count": 11,
     "metadata": {},
     "output_type": "execute_result"
    }
   ],
   "source": [
    "s.member_tags"
   ]
  },
  {
   "cell_type": "markdown",
   "metadata": {},
   "source": [
    "This association happens at the constructor time by passing the parameter `number_of_strings`, which tags the first `number_of_strings` members as `strings` and the remaining as `bars`. Alternatively, one can pass tags at construction time in the form of a dictionary with tags as keys and a numpy array of node or string indices as values.\n",
    "\n",
    "It is always recommended to manipulate tags using the convenience methods of `tnsgrt.structure.Structure`, which take care of keeping the member and node indices unique and sorted.\n",
    "\n",
    "Additional member tags can be assigned using `tnsgrt.structure.Structure.add_member_tag`. For example"
   ]
  },
  {
   "cell_type": "code",
   "execution_count": 12,
   "metadata": {},
   "outputs": [],
   "source": [
    "s.add_member_tag('vertical', [0, 2])"
   ]
  },
  {
   "cell_type": "markdown",
   "metadata": {},
   "source": [
    "creates a new tag `vertical` and associated the two members with indices `0` and `2` to it. Conversely, `tnsgrt.structure.Structure.get_members_by_tag` retrieves the member indices associated with a given tag, as in"
   ]
  },
  {
   "cell_type": "code",
   "execution_count": 13,
   "metadata": {},
   "outputs": [
    {
     "data": {
      "text/plain": "array([0, 2])"
     },
     "execution_count": 13,
     "metadata": {},
     "output_type": "execute_result"
    }
   ],
   "source": [
    "s.get_members_by_tag('vertical')"
   ]
  },
  {
   "cell_type": "markdown",
   "metadata": {},
   "source": [
    "while `tnsgrt.structure.Structure.get_member_tags` retrieve all tags associated with a given member index:"
   ]
  },
  {
   "cell_type": "code",
   "execution_count": 14,
   "metadata": {},
   "outputs": [
    {
     "data": {
      "text/plain": "['string', 'vertical']"
     },
     "execution_count": 14,
     "metadata": {},
     "output_type": "execute_result"
    }
   ],
   "source": [
    "s.get_member_tags(2)"
   ]
  },
  {
   "cell_type": "markdown",
   "metadata": {},
   "source": [
    "Similar methods exist to manipulate node tags.\n",
    "\n",
    "### Retrieving and setting properties\n",
    "\n",
    "Even though it is possible to manipulate the property `DataFrame`s directly, it is sometimes easier to use some convenience methods.\n",
    "\n",
    "For example"
   ]
  },
  {
   "cell_type": "code",
   "execution_count": 15,
   "metadata": {},
   "outputs": [
    {
     "data": {
      "text/plain": "   radius             facecolor             edgecolor\n0   0.005  (0.85, 0.325, 0.098)  (0.85, 0.325, 0.098)\n2   0.005  (0.85, 0.325, 0.098)  (0.85, 0.325, 0.098)",
      "text/html": "<div>\n<style scoped>\n    .dataframe tbody tr th:only-of-type {\n        vertical-align: middle;\n    }\n\n    .dataframe tbody tr th {\n        vertical-align: top;\n    }\n\n    .dataframe thead th {\n        text-align: right;\n    }\n</style>\n<table border=\"1\" class=\"dataframe\">\n  <thead>\n    <tr style=\"text-align: right;\">\n      <th></th>\n      <th>radius</th>\n      <th>facecolor</th>\n      <th>edgecolor</th>\n    </tr>\n  </thead>\n  <tbody>\n    <tr>\n      <th>0</th>\n      <td>0.005</td>\n      <td>(0.85, 0.325, 0.098)</td>\n      <td>(0.85, 0.325, 0.098)</td>\n    </tr>\n    <tr>\n      <th>2</th>\n      <td>0.005</td>\n      <td>(0.85, 0.325, 0.098)</td>\n      <td>(0.85, 0.325, 0.098)</td>\n    </tr>\n  </tbody>\n</table>\n</div>"
     },
     "execution_count": 15,
     "metadata": {},
     "output_type": "execute_result"
    }
   ],
   "source": [
    "s.get_member_properties(s.get_members_by_tag('vertical'), 'radius', 'facecolor', 'edgecolor')"
   ]
  },
  {
   "cell_type": "markdown",
   "metadata": {},
   "source": [
    "retrieves a view of the member's properties that have `vertical` as a tag.\n",
    "\n",
    "Conversely"
   ]
  },
  {
   "cell_type": "code",
   "execution_count": 16,
   "metadata": {},
   "outputs": [],
   "source": [
    "s.set_member_properties(s.get_members_by_tag('vertical'), 'radius', 0.04)"
   ]
  },
  {
   "cell_type": "markdown",
   "metadata": {},
   "source": [
    "sets the `radius` property of the members that have `vertical`\n",
    "\n",
    "`tnsgrt.structure.Structure.set_member_properties` can also be used to set multiple values at the same time, as in"
   ]
  },
  {
   "cell_type": "code",
   "execution_count": 17,
   "metadata": {},
   "outputs": [],
   "source": [
    "from tnsgrt.utils import Colors\n",
    "\n",
    "s.set_member_properties(s.get_members_by_tag('vertical'),\n",
    "                        'facecolor', Colors.GREEN.value,\n",
    "                        'edgecolor', Colors.GREEN.value,\n",
    "                        'mass', 2)"
   ]
  },
  {
   "cell_type": "markdown",
   "metadata": {},
   "source": [
    "Retrieving the properties confirm the changes:"
   ]
  },
  {
   "cell_type": "code",
   "execution_count": 18,
   "metadata": {},
   "outputs": [
    {
     "data": {
      "text/plain": "   radius  mass              facecolor              edgecolor\n0    0.04   2.0  (0.466, 0.674, 0.188)  (0.466, 0.674, 0.188)\n2    0.04   2.0  (0.466, 0.674, 0.188)  (0.466, 0.674, 0.188)",
      "text/html": "<div>\n<style scoped>\n    .dataframe tbody tr th:only-of-type {\n        vertical-align: middle;\n    }\n\n    .dataframe tbody tr th {\n        vertical-align: top;\n    }\n\n    .dataframe thead th {\n        text-align: right;\n    }\n</style>\n<table border=\"1\" class=\"dataframe\">\n  <thead>\n    <tr style=\"text-align: right;\">\n      <th></th>\n      <th>radius</th>\n      <th>mass</th>\n      <th>facecolor</th>\n      <th>edgecolor</th>\n    </tr>\n  </thead>\n  <tbody>\n    <tr>\n      <th>0</th>\n      <td>0.04</td>\n      <td>2.0</td>\n      <td>(0.466, 0.674, 0.188)</td>\n      <td>(0.466, 0.674, 0.188)</td>\n    </tr>\n    <tr>\n      <th>2</th>\n      <td>0.04</td>\n      <td>2.0</td>\n      <td>(0.466, 0.674, 0.188)</td>\n      <td>(0.466, 0.674, 0.188)</td>\n    </tr>\n  </tbody>\n</table>\n</div>"
     },
     "execution_count": 18,
     "metadata": {},
     "output_type": "execute_result"
    }
   ],
   "source": [
    "s.get_member_properties(s.get_members_by_tag('vertical'), 'radius', 'mass', 'facecolor', 'edgecolor')"
   ]
  },
  {
   "cell_type": "markdown",
   "metadata": {},
   "source": [
    "These changes are also reflected on the structure's plot generated by the following code."
   ]
  },
  {
   "cell_type": "code",
   "execution_count": 19,
   "metadata": {},
   "outputs": [
    {
     "data": {
      "text/plain": "Canvas(toolbar=Toolbar(toolitems=[('Home', 'Reset original view', 'home', 'home'), ('Back', 'Back to previous …",
      "image/png": "[encoded data removed]",
      "text/html": "\n            <div style=\"display: inline-block;\">\n                <div class=\"jupyter-widgets widget-label\" style=\"text-align: center;\">\n                    Figure\n                </div>\n                <img src='data:image/png;base64,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' width=640.0/>\n            </div>\n        ",
      "application/vnd.jupyter.widget-view+json": {
       "version_major": 2,
       "version_minor": 0,
       "model_id": "91700bbb8b58457da51318228b4a10e9"
      }
     },
     "metadata": {},
     "output_type": "display_data"
    }
   ],
   "source": [
    "plotter = MatplotlibPlotter()\n",
    "plotter.plot(s)\n",
    "fig, ax = plotter.get_handles()\n",
    "ax.view_init(90,-90)\n",
    "ax.axis('equal')\n",
    "ax.axis('off')\n",
    "plt.show()"
   ]
  }
 ],
 "metadata": {
  "kernelspec": {
   "display_name": "Python 3 (ipykernel)",
   "language": "python",
   "name": "python3"
  },
  "language_info": {
   "codemirror_mode": {
    "name": "ipython",
    "version": 3
   },
   "file_extension": ".py",
   "mimetype": "text/x-python",
   "name": "python",
   "nbconvert_exporter": "python",
   "pygments_lexer": "ipython3",
   "version": "3.11.3"
  }
 },
 "nbformat": 4,
 "nbformat_minor": 1
}
