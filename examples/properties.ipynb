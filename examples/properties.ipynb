{
 "cells": [
  {
   "cell_type": "markdown",
   "metadata": {},
   "source": [
    "# The structure of Structures"
   ]
  },
  {
   "cell_type": "code",
   "execution_count": 1,
   "metadata": {},
   "outputs": [],
   "source": [
    "# add path if package not installed\n",
    "import sys\n",
    "sys.path.append('../src')"
   ]
  },
  {
   "cell_type": "markdown",
   "metadata": {},
   "source": [
    "The prisms seen in the quick start are members of `tnsgrt.structure.Structure`. In fact,\n",
    "`tnsgrt.prism.Prism` overloads only the constructor of `tnsgrt.structure.Structure`, which provides most\n",
    "of the functionality."
   ]
  },
  {
   "cell_type": "markdown",
   "metadata": {},
   "source": [
    "## Construction\n",
    "\n",
    "Objects of class `tnsgrt.structure.Structure` are composed of *nodes* and *members*. Nodes are `3 x n` numpy arrays"
   ]
  },
  {
   "cell_type": "code",
   "execution_count": 2,
   "metadata": {},
   "outputs": [],
   "source": [
    "import numpy as np\n",
    "nodes = np.array([[0,0,0],[0,1,0],[1,1,0],[1,0,0]]).transpose()"
   ]
  },
  {
   "cell_type": "markdown",
   "metadata": {},
   "source": [
    "Members are *bars* or *strings*, which are specified by a `2 x m` array with the indices of the nodes that define the\n",
    "members, as in:"
   ]
  },
  {
   "cell_type": "code",
   "execution_count": 3,
   "metadata": {},
   "outputs": [],
   "source": [
    "members = np.array([[0,1],[1,2],[2,3],[3,0],[0,2],[1,3]]).transpose()"
   ]
  },
  {
   "cell_type": "markdown",
   "metadata": {},
   "source": [
    "Nodes and members are then combined to build a `tnsgrt.structure.Structure`:"
   ]
  },
  {
   "cell_type": "code",
   "execution_count": 4,
   "metadata": {},
   "outputs": [],
   "source": [
    "from tnsgrt.structure import Structure\n",
    "s = Structure(nodes, members, number_of_strings=4)"
   ]
  },
  {
   "cell_type": "markdown",
   "metadata": {},
   "source": [
    "The parameter `number_of_strings = 4` means that the first four members are to be considered *strings*.\n",
    "\n",
    "As before, the resulting structure can be plotted using `tnsgrt.plotter.MatplotlibPlotter`"
   ]
  },
  {
   "cell_type": "code",
   "execution_count": 5,
   "metadata": {},
   "outputs": [
    {
     "data": {
      "application/vnd.jupyter.widget-view+json": {
       "model_id": "782ede6f1aa649f5986d77ad61334481",
       "version_major": 2,
       "version_minor": 0
      },
      "image/png": "[encoded data removed]",
      "text/html": [
       "\n",
       "            <div style=\"display: inline-block;\">\n",
       "                <div class=\"jupyter-widgets widget-label\" style=\"text-align: center;\">\n",
       "                    Figure\n",
       "                </div>\n",
       "                <img src='data:image/png;base64,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' width=640.0/>\n",
       "            </div>\n",
       "        "
      ],
      "text/plain": [
       "Canvas(toolbar=Toolbar(toolitems=[('Home', 'Reset original view', 'home', 'home'), ('Back', 'Back to previous …"
      ]
     },
     "metadata": {},
     "output_type": "display_data"
    }
   ],
   "source": [
    "from matplotlib import pyplot as plt\n",
    "from tnsgrt.plotter.matplotlib import MatplotlibPlotter\n",
    "%matplotlib widget\n",
    "\n",
    "plotter = MatplotlibPlotter()\n",
    "plotter.plot(s)\n",
    "_, ax = plotter.get_handles()\n",
    "ax.view_init(90,-90)\n",
    "ax.axis('off')\n",
    "ax.axis('equal')\n",
    "plt.show()"
   ]
  },
  {
   "cell_type": "markdown",
   "metadata": {},
   "source": [
    "to visualize the resulting planar tensegrity structure built above.\n",
    "\n",
    "Quite often, it is useful to view and modify the data stored in a Structure. The following\n",
    "examples show several ways of doing that.\n",
    "\n",
    "### Nodes and members\n",
    "\n",
    "A string representation of a Structure displays its number of nodes, number of bars, and number of strings."
   ]
  },
  {
   "cell_type": "code",
   "execution_count": 6,
   "metadata": {},
   "outputs": [
    {
     "name": "stdout",
     "output_type": "stream",
     "text": [
      "Structure with 4 nodes, 2 bars and 4 strings\n"
     ]
    }
   ],
   "source": [
    "print(s)"
   ]
  },
  {
   "cell_type": "markdown",
   "metadata": {},
   "source": [
    "A Structure has as attributes `nodes`"
   ]
  },
  {
   "cell_type": "code",
   "execution_count": 7,
   "metadata": {},
   "outputs": [
    {
     "data": {
      "text/plain": [
       "array([[0., 0., 1., 1.],\n",
       "       [0., 1., 1., 0.],\n",
       "       [0., 0., 0., 0.]])"
      ]
     },
     "execution_count": 7,
     "metadata": {},
     "output_type": "execute_result"
    }
   ],
   "source": [
    "s.nodes"
   ]
  },
  {
   "cell_type": "markdown",
   "metadata": {},
   "source": [
    "which is a 3 x n numpy array storing the Structure's nodes in its columns and `members`"
   ]
  },
  {
   "cell_type": "code",
   "execution_count": 8,
   "metadata": {},
   "outputs": [
    {
     "data": {
      "text/plain": [
       "array([[0, 1, 2, 3, 0, 1],\n",
       "       [1, 2, 3, 0, 2, 3]], dtype=int64)"
      ]
     },
     "execution_count": 8,
     "metadata": {},
     "output_type": "execute_result"
    }
   ],
   "source": [
    "s.members"
   ]
  },
  {
   "cell_type": "markdown",
   "metadata": {},
   "source": [
    "which is a 2 x m numpy array storing the Structure's members. Each column of `member` stores the indices of the nodes to which the ends of a bar or of a string is connected to.\n",
    "\n",
    "The values of nodes can be accessed or modified using the convenience methods\n",
    ":meth:`tnsgrt.structure.Structure.get_node_values` and\n",
    ":meth:`tnsgrt.structure.Structure.set_node_values`. For example:"
   ]
  },
  {
   "cell_type": "code",
   "execution_count": 9,
   "metadata": {},
   "outputs": [],
   "source": [
    "s.set_node_values([2, 3], np.array([[2, 1, 0], [2, 0, 0]]).transpose())"
   ]
  },
  {
   "cell_type": "markdown",
   "metadata": {},
   "source": [
    "modify the location of nodes 2 and 3, and"
   ]
  },
  {
   "cell_type": "code",
   "execution_count": 10,
   "metadata": {},
   "outputs": [
    {
     "data": {
      "text/plain": [
       "array([[2., 2.],\n",
       "       [1., 0.],\n",
       "       [0., 0.]])"
      ]
     },
     "execution_count": 10,
     "metadata": {},
     "output_type": "execute_result"
    }
   ],
   "source": [
    "s.get_node_values([2, 3])"
   ]
  },
  {
   "cell_type": "markdown",
   "metadata": {},
   "source": [
    "retrieves the updated values\n",
    "\n",
    "The change is reflected in the structure geometry, which now looks as in the new figure generated by the code"
   ]
  },
  {
   "cell_type": "code",
   "execution_count": 11,
   "metadata": {},
   "outputs": [
    {
     "data": {
      "application/vnd.jupyter.widget-view+json": {
       "model_id": "4426baac5a704b6d95d571ae0197fdb0",
       "version_major": 2,
       "version_minor": 0
      },
      "image/png": "[encoded data removed]",
      "text/html": [
       "\n",
       "            <div style=\"display: inline-block;\">\n",
       "                <div class=\"jupyter-widgets widget-label\" style=\"text-align: center;\">\n",
       "                    Figure\n",
       "                </div>\n",
       "                <img src='data:image/png;base64,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' width=640.0/>\n",
       "            </div>\n",
       "        "
      ],
      "text/plain": [
       "Canvas(toolbar=Toolbar(toolitems=[('Home', 'Reset original view', 'home', 'home'), ('Back', 'Back to previous …"
      ]
     },
     "metadata": {},
     "output_type": "display_data"
    }
   ],
   "source": [
    "plotter = MatplotlibPlotter()\n",
    "plotter.plot(s)\n",
    "_, ax = plotter.get_handles()\n",
    "ax.view_init(90,-90)\n",
    "ax.axis('off')\n",
    "ax.axis('equal')\n",
    "plt.show()"
   ]
  },
  {
   "cell_type": "markdown",
   "metadata": {},
   "source": [
    "## Properties\n",
    "\n",
    "Node and member properties are stored as pandas' Dataframes. In this example"
   ]
  },
  {
   "cell_type": "code",
   "execution_count": 12,
   "metadata": {},
   "outputs": [
    {
     "data": {
      "text/html": [
       "<div>\n",
       "<style scoped>\n",
       "    .dataframe tbody tr th:only-of-type {\n",
       "        vertical-align: middle;\n",
       "    }\n",
       "\n",
       "    .dataframe tbody tr th {\n",
       "        vertical-align: top;\n",
       "    }\n",
       "\n",
       "    .dataframe thead th {\n",
       "        text-align: right;\n",
       "    }\n",
       "</style>\n",
       "<table border=\"1\" class=\"dataframe\">\n",
       "  <thead>\n",
       "    <tr style=\"text-align: right;\">\n",
       "      <th></th>\n",
       "      <th>radius</th>\n",
       "      <th>visible</th>\n",
       "      <th>constraint</th>\n",
       "      <th>facecolor</th>\n",
       "      <th>edgecolor</th>\n",
       "    </tr>\n",
       "  </thead>\n",
       "  <tbody>\n",
       "    <tr>\n",
       "      <th>0</th>\n",
       "      <td>0.002</td>\n",
       "      <td>True</td>\n",
       "      <td>None</td>\n",
       "      <td>(0, 0.447, 0.741)</td>\n",
       "      <td>(0, 0.447, 0.741)</td>\n",
       "    </tr>\n",
       "    <tr>\n",
       "      <th>1</th>\n",
       "      <td>0.002</td>\n",
       "      <td>True</td>\n",
       "      <td>None</td>\n",
       "      <td>(0, 0.447, 0.741)</td>\n",
       "      <td>(0, 0.447, 0.741)</td>\n",
       "    </tr>\n",
       "    <tr>\n",
       "      <th>2</th>\n",
       "      <td>0.002</td>\n",
       "      <td>True</td>\n",
       "      <td>None</td>\n",
       "      <td>(0, 0.447, 0.741)</td>\n",
       "      <td>(0, 0.447, 0.741)</td>\n",
       "    </tr>\n",
       "    <tr>\n",
       "      <th>3</th>\n",
       "      <td>0.002</td>\n",
       "      <td>True</td>\n",
       "      <td>None</td>\n",
       "      <td>(0, 0.447, 0.741)</td>\n",
       "      <td>(0, 0.447, 0.741)</td>\n",
       "    </tr>\n",
       "  </tbody>\n",
       "</table>\n",
       "</div>"
      ],
      "text/plain": [
       "   radius  visible constraint          facecolor          edgecolor\n",
       "0   0.002     True       None  (0, 0.447, 0.741)  (0, 0.447, 0.741)\n",
       "1   0.002     True       None  (0, 0.447, 0.741)  (0, 0.447, 0.741)\n",
       "2   0.002     True       None  (0, 0.447, 0.741)  (0, 0.447, 0.741)\n",
       "3   0.002     True       None  (0, 0.447, 0.741)  (0, 0.447, 0.741)"
      ]
     },
     "execution_count": 12,
     "metadata": {},
     "output_type": "execute_result"
    }
   ],
   "source": [
    "s.node_properties"
   ]
  },
  {
   "cell_type": "markdown",
   "metadata": {},
   "source": [
    "and"
   ]
  },
  {
   "cell_type": "code",
   "execution_count": 13,
   "metadata": {},
   "outputs": [
    {
     "data": {
      "text/html": [
       "<div>\n",
       "<style scoped>\n",
       "    .dataframe tbody tr th:only-of-type {\n",
       "        vertical-align: middle;\n",
       "    }\n",
       "\n",
       "    .dataframe tbody tr th {\n",
       "        vertical-align: top;\n",
       "    }\n",
       "\n",
       "    .dataframe thead th {\n",
       "        text-align: right;\n",
       "    }\n",
       "</style>\n",
       "<table border=\"1\" class=\"dataframe\">\n",
       "  <thead>\n",
       "    <tr style=\"text-align: right;\">\n",
       "      <th></th>\n",
       "      <th>lambda_</th>\n",
       "      <th>force</th>\n",
       "      <th>stiffness</th>\n",
       "      <th>volume</th>\n",
       "      <th>radius</th>\n",
       "      <th>inner_radius</th>\n",
       "      <th>mass</th>\n",
       "      <th>rest_length</th>\n",
       "      <th>yld</th>\n",
       "      <th>density</th>\n",
       "      <th>modulus</th>\n",
       "      <th>visible</th>\n",
       "      <th>facecolor</th>\n",
       "      <th>edgecolor</th>\n",
       "      <th>linewidth</th>\n",
       "      <th>linestyle</th>\n",
       "    </tr>\n",
       "  </thead>\n",
       "  <tbody>\n",
       "    <tr>\n",
       "      <th>0</th>\n",
       "      <td>0.0</td>\n",
       "      <td>0.0</td>\n",
       "      <td>0.0</td>\n",
       "      <td>0.0</td>\n",
       "      <td>0.005</td>\n",
       "      <td>0.0</td>\n",
       "      <td>1.0</td>\n",
       "      <td>0.0</td>\n",
       "      <td>250000000.0</td>\n",
       "      <td>7850.0</td>\n",
       "      <td>2.000000e+11</td>\n",
       "      <td>True</td>\n",
       "      <td>(0.85, 0.325, 0.098)</td>\n",
       "      <td>(0.85, 0.325, 0.098)</td>\n",
       "      <td>2</td>\n",
       "      <td>-</td>\n",
       "    </tr>\n",
       "    <tr>\n",
       "      <th>1</th>\n",
       "      <td>0.0</td>\n",
       "      <td>0.0</td>\n",
       "      <td>0.0</td>\n",
       "      <td>0.0</td>\n",
       "      <td>0.005</td>\n",
       "      <td>0.0</td>\n",
       "      <td>1.0</td>\n",
       "      <td>0.0</td>\n",
       "      <td>250000000.0</td>\n",
       "      <td>7850.0</td>\n",
       "      <td>2.000000e+11</td>\n",
       "      <td>True</td>\n",
       "      <td>(0.85, 0.325, 0.098)</td>\n",
       "      <td>(0.85, 0.325, 0.098)</td>\n",
       "      <td>2</td>\n",
       "      <td>-</td>\n",
       "    </tr>\n",
       "    <tr>\n",
       "      <th>2</th>\n",
       "      <td>0.0</td>\n",
       "      <td>0.0</td>\n",
       "      <td>0.0</td>\n",
       "      <td>0.0</td>\n",
       "      <td>0.005</td>\n",
       "      <td>0.0</td>\n",
       "      <td>1.0</td>\n",
       "      <td>0.0</td>\n",
       "      <td>250000000.0</td>\n",
       "      <td>7850.0</td>\n",
       "      <td>2.000000e+11</td>\n",
       "      <td>True</td>\n",
       "      <td>(0.85, 0.325, 0.098)</td>\n",
       "      <td>(0.85, 0.325, 0.098)</td>\n",
       "      <td>2</td>\n",
       "      <td>-</td>\n",
       "    </tr>\n",
       "    <tr>\n",
       "      <th>3</th>\n",
       "      <td>0.0</td>\n",
       "      <td>0.0</td>\n",
       "      <td>0.0</td>\n",
       "      <td>0.0</td>\n",
       "      <td>0.005</td>\n",
       "      <td>0.0</td>\n",
       "      <td>1.0</td>\n",
       "      <td>0.0</td>\n",
       "      <td>250000000.0</td>\n",
       "      <td>7850.0</td>\n",
       "      <td>2.000000e+11</td>\n",
       "      <td>True</td>\n",
       "      <td>(0.85, 0.325, 0.098)</td>\n",
       "      <td>(0.85, 0.325, 0.098)</td>\n",
       "      <td>2</td>\n",
       "      <td>-</td>\n",
       "    </tr>\n",
       "    <tr>\n",
       "      <th>4</th>\n",
       "      <td>0.0</td>\n",
       "      <td>0.0</td>\n",
       "      <td>0.0</td>\n",
       "      <td>0.0</td>\n",
       "      <td>0.010</td>\n",
       "      <td>0.0</td>\n",
       "      <td>1.0</td>\n",
       "      <td>0.0</td>\n",
       "      <td>250000000.0</td>\n",
       "      <td>7850.0</td>\n",
       "      <td>2.000000e+11</td>\n",
       "      <td>True</td>\n",
       "      <td>(0, 0.447, 0.741)</td>\n",
       "      <td>(0, 0.447, 0.741)</td>\n",
       "      <td>2</td>\n",
       "      <td>-</td>\n",
       "    </tr>\n",
       "    <tr>\n",
       "      <th>5</th>\n",
       "      <td>0.0</td>\n",
       "      <td>0.0</td>\n",
       "      <td>0.0</td>\n",
       "      <td>0.0</td>\n",
       "      <td>0.010</td>\n",
       "      <td>0.0</td>\n",
       "      <td>1.0</td>\n",
       "      <td>0.0</td>\n",
       "      <td>250000000.0</td>\n",
       "      <td>7850.0</td>\n",
       "      <td>2.000000e+11</td>\n",
       "      <td>True</td>\n",
       "      <td>(0, 0.447, 0.741)</td>\n",
       "      <td>(0, 0.447, 0.741)</td>\n",
       "      <td>2</td>\n",
       "      <td>-</td>\n",
       "    </tr>\n",
       "  </tbody>\n",
       "</table>\n",
       "</div>"
      ],
      "text/plain": [
       "   lambda_  force  stiffness  volume  radius  inner_radius  mass  rest_length   \n",
       "0      0.0    0.0        0.0     0.0   0.005           0.0   1.0          0.0  \\\n",
       "1      0.0    0.0        0.0     0.0   0.005           0.0   1.0          0.0   \n",
       "2      0.0    0.0        0.0     0.0   0.005           0.0   1.0          0.0   \n",
       "3      0.0    0.0        0.0     0.0   0.005           0.0   1.0          0.0   \n",
       "4      0.0    0.0        0.0     0.0   0.010           0.0   1.0          0.0   \n",
       "5      0.0    0.0        0.0     0.0   0.010           0.0   1.0          0.0   \n",
       "\n",
       "           yld  density       modulus  visible             facecolor   \n",
       "0  250000000.0   7850.0  2.000000e+11     True  (0.85, 0.325, 0.098)  \\\n",
       "1  250000000.0   7850.0  2.000000e+11     True  (0.85, 0.325, 0.098)   \n",
       "2  250000000.0   7850.0  2.000000e+11     True  (0.85, 0.325, 0.098)   \n",
       "3  250000000.0   7850.0  2.000000e+11     True  (0.85, 0.325, 0.098)   \n",
       "4  250000000.0   7850.0  2.000000e+11     True     (0, 0.447, 0.741)   \n",
       "5  250000000.0   7850.0  2.000000e+11     True     (0, 0.447, 0.741)   \n",
       "\n",
       "              edgecolor  linewidth linestyle  \n",
       "0  (0.85, 0.325, 0.098)          2         -  \n",
       "1  (0.85, 0.325, 0.098)          2         -  \n",
       "2  (0.85, 0.325, 0.098)          2         -  \n",
       "3  (0.85, 0.325, 0.098)          2         -  \n",
       "4     (0, 0.447, 0.741)          2         -  \n",
       "5     (0, 0.447, 0.741)          2         -  "
      ]
     },
     "execution_count": 13,
     "metadata": {},
     "output_type": "execute_result"
    }
   ],
   "source": [
    "s.member_properties"
   ]
  },
  {
   "cell_type": "markdown",
   "metadata": {},
   "source": [
    "The DataFrames can be manipulated directly or one can use some convenience methods that will be discussed later.\n",
    "\n",
    "Properties are populated with default values taken from `Structure.NodeProperty`, `Structure.MemberProperty`, and the values in the dictionary"
   ]
  },
  {
   "cell_type": "code",
   "execution_count": 14,
   "metadata": {},
   "outputs": [
    {
     "data": {
      "text/plain": [
       "{'bar': {'facecolor': (0, 0.447, 0.741), 'edgecolor': (0, 0.447, 0.741)},\n",
       " 'string': {'facecolor': (0.85, 0.325, 0.098),\n",
       "  'edgecolor': (0.85, 0.325, 0.098),\n",
       "  'radius': 0.005}}"
      ]
     },
     "execution_count": 14,
     "metadata": {},
     "output_type": "execute_result"
    }
   ],
   "source": [
    "Structure.member_defaults"
   ]
  },
  {
   "cell_type": "markdown",
   "metadata": {},
   "source": [
    "The keys in this dictionary are *tags*, which we discuss next.\n",
    "\n",
    "## Tags\n",
    "\n",
    "Nodes and members can be assigned and manipulated via *tags*. Nodes do not have any default tag,"
   ]
  },
  {
   "cell_type": "code",
   "execution_count": 15,
   "metadata": {},
   "outputs": [
    {
     "data": {
      "text/plain": [
       "{}"
      ]
     },
     "execution_count": 15,
     "metadata": {},
     "output_type": "execute_result"
    }
   ],
   "source": [
    "s.node_tags"
   ]
  },
  {
   "cell_type": "markdown",
   "metadata": {},
   "source": [
    "but members are automatically assigned either `bar` or `string` as a tag."
   ]
  },
  {
   "cell_type": "code",
   "execution_count": 16,
   "metadata": {},
   "outputs": [
    {
     "data": {
      "text/plain": [
       "{'bar': array([4, 5], dtype=int64), 'string': array([0, 1, 2, 3], dtype=int64)}"
      ]
     },
     "execution_count": 16,
     "metadata": {},
     "output_type": "execute_result"
    }
   ],
   "source": [
    "s.member_tags"
   ]
  },
  {
   "cell_type": "markdown",
   "metadata": {},
   "source": [
    "This association happens at the constructor time by passing the parameter `number_of_strings`, which tags the first `number_of_strings` members as `strings` and the remaining as `bars`. Alternatively, one can pass tags at construction time in the form of a dictionary with tags as keys and a numpy array of node or string indices as values.\n",
    "\n",
    "It is always recommended to manipulate tags using the convenience methods of `tnsgrt.structure.Structure`, which take care of keeping the member and node indices unique and sorted.\n",
    "\n",
    "Additional member tags can be assigned using `tnsgrt.structure.Structure.add_member_tag`. For example"
   ]
  },
  {
   "cell_type": "code",
   "execution_count": 17,
   "metadata": {},
   "outputs": [],
   "source": [
    "s.add_member_tag('vertical', [0, 2])"
   ]
  },
  {
   "cell_type": "markdown",
   "metadata": {},
   "source": [
    "creates a new tag `vertical` and associated the two members with indices `0` and `2` to it. Conversely, `tnsgrt.structure.Structure.get_members_by_tag` retrieves the member indices associated with a given tag, as in"
   ]
  },
  {
   "cell_type": "code",
   "execution_count": 18,
   "metadata": {},
   "outputs": [
    {
     "data": {
      "text/plain": [
       "array([0, 2])"
      ]
     },
     "execution_count": 18,
     "metadata": {},
     "output_type": "execute_result"
    }
   ],
   "source": [
    "s.get_members_by_tag('vertical')"
   ]
  },
  {
   "cell_type": "markdown",
   "metadata": {},
   "source": [
    "while `tnsgrt.structure.Structure.get_member_tags` retrieve all tags associated with a given member index:"
   ]
  },
  {
   "cell_type": "code",
   "execution_count": 19,
   "metadata": {},
   "outputs": [
    {
     "data": {
      "text/plain": [
       "['string', 'vertical']"
      ]
     },
     "execution_count": 19,
     "metadata": {},
     "output_type": "execute_result"
    }
   ],
   "source": [
    "s.get_member_tags(2)"
   ]
  },
  {
   "cell_type": "markdown",
   "metadata": {},
   "source": [
    "Similar methods exist to manipulate node tags.\n",
    "\n",
    "## Member and node properties\n",
    "\n",
    "Even though it is possible to manipulate the property `DataFrame`s directly, it is often easier to use the provided convenience methods.\n",
    "\n",
    "For example"
   ]
  },
  {
   "cell_type": "code",
   "execution_count": 20,
   "metadata": {},
   "outputs": [
    {
     "data": {
      "text/html": [
       "<div>\n",
       "<style scoped>\n",
       "    .dataframe tbody tr th:only-of-type {\n",
       "        vertical-align: middle;\n",
       "    }\n",
       "\n",
       "    .dataframe tbody tr th {\n",
       "        vertical-align: top;\n",
       "    }\n",
       "\n",
       "    .dataframe thead th {\n",
       "        text-align: right;\n",
       "    }\n",
       "</style>\n",
       "<table border=\"1\" class=\"dataframe\">\n",
       "  <thead>\n",
       "    <tr style=\"text-align: right;\">\n",
       "      <th></th>\n",
       "      <th>radius</th>\n",
       "      <th>facecolor</th>\n",
       "      <th>edgecolor</th>\n",
       "    </tr>\n",
       "  </thead>\n",
       "  <tbody>\n",
       "    <tr>\n",
       "      <th>0</th>\n",
       "      <td>0.005</td>\n",
       "      <td>(0.85, 0.325, 0.098)</td>\n",
       "      <td>(0.85, 0.325, 0.098)</td>\n",
       "    </tr>\n",
       "    <tr>\n",
       "      <th>2</th>\n",
       "      <td>0.005</td>\n",
       "      <td>(0.85, 0.325, 0.098)</td>\n",
       "      <td>(0.85, 0.325, 0.098)</td>\n",
       "    </tr>\n",
       "  </tbody>\n",
       "</table>\n",
       "</div>"
      ],
      "text/plain": [
       "   radius             facecolor             edgecolor\n",
       "0   0.005  (0.85, 0.325, 0.098)  (0.85, 0.325, 0.098)\n",
       "2   0.005  (0.85, 0.325, 0.098)  (0.85, 0.325, 0.098)"
      ]
     },
     "execution_count": 20,
     "metadata": {},
     "output_type": "execute_result"
    }
   ],
   "source": [
    "s.get_member_properties(s.get_members_by_tag('vertical'), 'radius', 'facecolor', 'edgecolor')"
   ]
  },
  {
   "cell_type": "markdown",
   "metadata": {},
   "source": [
    "retrieves a view of the member's properties that have `vertical` as a tag.\n",
    "\n",
    "Conversely"
   ]
  },
  {
   "cell_type": "code",
   "execution_count": 21,
   "metadata": {},
   "outputs": [],
   "source": [
    "s.set_member_properties(s.get_members_by_tag('vertical'), 'radius', 0.04)"
   ]
  },
  {
   "cell_type": "markdown",
   "metadata": {},
   "source": [
    "sets the `radius` property of the members that have `vertical`\n",
    "\n",
    "`tnsgrt.structure.Structure.set_member_properties` can also be used to set multiple values at the same time, as in"
   ]
  },
  {
   "cell_type": "code",
   "execution_count": 22,
   "metadata": {},
   "outputs": [],
   "source": [
    "from tnsgrt.utils import Colors\n",
    "\n",
    "s.set_member_properties(s.get_members_by_tag('vertical'),\n",
    "                        'facecolor', Colors.GREEN.value,\n",
    "                        'edgecolor', Colors.GREEN.value,\n",
    "                        'mass', 2)"
   ]
  },
  {
   "cell_type": "markdown",
   "metadata": {},
   "source": [
    "Retrieving the properties confirm the changes:"
   ]
  },
  {
   "cell_type": "code",
   "execution_count": 23,
   "metadata": {},
   "outputs": [
    {
     "data": {
      "text/html": [
       "<div>\n",
       "<style scoped>\n",
       "    .dataframe tbody tr th:only-of-type {\n",
       "        vertical-align: middle;\n",
       "    }\n",
       "\n",
       "    .dataframe tbody tr th {\n",
       "        vertical-align: top;\n",
       "    }\n",
       "\n",
       "    .dataframe thead th {\n",
       "        text-align: right;\n",
       "    }\n",
       "</style>\n",
       "<table border=\"1\" class=\"dataframe\">\n",
       "  <thead>\n",
       "    <tr style=\"text-align: right;\">\n",
       "      <th></th>\n",
       "      <th>radius</th>\n",
       "      <th>mass</th>\n",
       "      <th>facecolor</th>\n",
       "      <th>edgecolor</th>\n",
       "    </tr>\n",
       "  </thead>\n",
       "  <tbody>\n",
       "    <tr>\n",
       "      <th>0</th>\n",
       "      <td>0.04</td>\n",
       "      <td>2.0</td>\n",
       "      <td>(0.466, 0.674, 0.188)</td>\n",
       "      <td>(0.466, 0.674, 0.188)</td>\n",
       "    </tr>\n",
       "    <tr>\n",
       "      <th>2</th>\n",
       "      <td>0.04</td>\n",
       "      <td>2.0</td>\n",
       "      <td>(0.466, 0.674, 0.188)</td>\n",
       "      <td>(0.466, 0.674, 0.188)</td>\n",
       "    </tr>\n",
       "  </tbody>\n",
       "</table>\n",
       "</div>"
      ],
      "text/plain": [
       "   radius  mass              facecolor              edgecolor\n",
       "0    0.04   2.0  (0.466, 0.674, 0.188)  (0.466, 0.674, 0.188)\n",
       "2    0.04   2.0  (0.466, 0.674, 0.188)  (0.466, 0.674, 0.188)"
      ]
     },
     "execution_count": 23,
     "metadata": {},
     "output_type": "execute_result"
    }
   ],
   "source": [
    "s.get_member_properties(s.get_members_by_tag('vertical'), 'radius', 'mass', 'facecolor', 'edgecolor')"
   ]
  },
  {
   "cell_type": "markdown",
   "metadata": {},
   "source": [
    "These changes are also reflected on the structure's plot generated by the following code."
   ]
  },
  {
   "cell_type": "code",
   "execution_count": 24,
   "metadata": {},
   "outputs": [
    {
     "data": {
      "application/vnd.jupyter.widget-view+json": {
       "model_id": "bd68bd60bd5e4fbdb924eb9634ae4791",
       "version_major": 2,
       "version_minor": 0
      },
      "image/png": "[encoded data removed]",
      "text/html": [
       "\n",
       "            <div style=\"display: inline-block;\">\n",
       "                <div class=\"jupyter-widgets widget-label\" style=\"text-align: center;\">\n",
       "                    Figure\n",
       "                </div>\n",
       "                <img src='data:image/png;base64,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' width=640.0/>\n",
       "            </div>\n",
       "        "
      ],
      "text/plain": [
       "Canvas(toolbar=Toolbar(toolitems=[('Home', 'Reset original view', 'home', 'home'), ('Back', 'Back to previous …"
      ]
     },
     "metadata": {},
     "output_type": "display_data"
    }
   ],
   "source": [
    "plotter = MatplotlibPlotter()\n",
    "plotter.plot(s)\n",
    "fig, ax = plotter.get_handles()\n",
    "ax.view_init(90,-90)\n",
    "ax.axis('equal')\n",
    "ax.axis('off')\n",
    "plt.show()"
   ]
  },
  {
   "cell_type": "code",
   "execution_count": null,
   "metadata": {},
   "outputs": [],
   "source": []
  }
 ],
 "metadata": {
  "kernelspec": {
   "display_name": "Python 3 (ipykernel)",
   "language": "python",
   "name": "python3"
  },
  "language_info": {
   "codemirror_mode": {
    "name": "ipython",
    "version": 3
   },
   "file_extension": ".py",
   "mimetype": "text/x-python",
   "name": "python",
   "nbconvert_exporter": "python",
   "pygments_lexer": "ipython3",
   "version": "3.11.3"
  }
 },
 "nbformat": 4,
 "nbformat_minor": 1
}
